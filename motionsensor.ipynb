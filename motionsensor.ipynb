{
 "cells": [
  {
   "cell_type": "code",
   "execution_count": 96,
   "metadata": {
    "collapsed": true
   },
   "outputs": [],
   "source": [
    "import pandas as pd\n",
    "test  = pd.read_csv(\"https://s3.amazonaws.com/hackerday.datascience/112/test.csv\")  \n",
    "train = pd.read_csv(\"https://s3.amazonaws.com/hackerday.datascience/112/train.csv\") "
   ]
  },
  {
   "cell_type": "code",
   "execution_count": 97,
   "metadata": {
    "collapsed": false
   },
   "outputs": [
    {
     "data": {
      "text/html": [
       "<div>\n",
       "<table border=\"1\" class=\"dataframe\">\n",
       "  <thead>\n",
       "    <tr style=\"text-align: right;\">\n",
       "      <th></th>\n",
       "      <th>tBodyAcc-mean()-X</th>\n",
       "      <th>tBodyAcc-mean()-Y</th>\n",
       "      <th>tBodyAcc-mean()-Z</th>\n",
       "      <th>tBodyAcc-std()-X</th>\n",
       "      <th>tBodyAcc-std()-Y</th>\n",
       "      <th>tBodyAcc-std()-Z</th>\n",
       "      <th>tBodyAcc-mad()-X</th>\n",
       "      <th>tBodyAcc-mad()-Y</th>\n",
       "      <th>tBodyAcc-mad()-Z</th>\n",
       "      <th>tBodyAcc-max()-X</th>\n",
       "      <th>...</th>\n",
       "      <th>fBodyBodyGyroJerkMag-kurtosis()</th>\n",
       "      <th>angle(tBodyAccMean,gravity)</th>\n",
       "      <th>angle(tBodyAccJerkMean),gravityMean)</th>\n",
       "      <th>angle(tBodyGyroMean,gravityMean)</th>\n",
       "      <th>angle(tBodyGyroJerkMean,gravityMean)</th>\n",
       "      <th>angle(X,gravityMean)</th>\n",
       "      <th>angle(Y,gravityMean)</th>\n",
       "      <th>angle(Z,gravityMean)</th>\n",
       "      <th>subject</th>\n",
       "      <th>Activity</th>\n",
       "    </tr>\n",
       "  </thead>\n",
       "  <tbody>\n",
       "    <tr>\n",
       "      <th>0</th>\n",
       "      <td>0.288585</td>\n",
       "      <td>-0.020294</td>\n",
       "      <td>-0.132905</td>\n",
       "      <td>-0.995279</td>\n",
       "      <td>-0.983111</td>\n",
       "      <td>-0.913526</td>\n",
       "      <td>-0.995112</td>\n",
       "      <td>-0.983185</td>\n",
       "      <td>-0.923527</td>\n",
       "      <td>-0.934724</td>\n",
       "      <td>...</td>\n",
       "      <td>-0.710304</td>\n",
       "      <td>-0.112754</td>\n",
       "      <td>0.030400</td>\n",
       "      <td>-0.464761</td>\n",
       "      <td>-0.018446</td>\n",
       "      <td>-0.841247</td>\n",
       "      <td>0.179941</td>\n",
       "      <td>-0.058627</td>\n",
       "      <td>1</td>\n",
       "      <td>STANDING</td>\n",
       "    </tr>\n",
       "    <tr>\n",
       "      <th>1</th>\n",
       "      <td>0.278419</td>\n",
       "      <td>-0.016411</td>\n",
       "      <td>-0.123520</td>\n",
       "      <td>-0.998245</td>\n",
       "      <td>-0.975300</td>\n",
       "      <td>-0.960322</td>\n",
       "      <td>-0.998807</td>\n",
       "      <td>-0.974914</td>\n",
       "      <td>-0.957686</td>\n",
       "      <td>-0.943068</td>\n",
       "      <td>...</td>\n",
       "      <td>-0.861499</td>\n",
       "      <td>0.053477</td>\n",
       "      <td>-0.007435</td>\n",
       "      <td>-0.732626</td>\n",
       "      <td>0.703511</td>\n",
       "      <td>-0.844788</td>\n",
       "      <td>0.180289</td>\n",
       "      <td>-0.054317</td>\n",
       "      <td>1</td>\n",
       "      <td>STANDING</td>\n",
       "    </tr>\n",
       "    <tr>\n",
       "      <th>2</th>\n",
       "      <td>0.279653</td>\n",
       "      <td>-0.019467</td>\n",
       "      <td>-0.113462</td>\n",
       "      <td>-0.995380</td>\n",
       "      <td>-0.967187</td>\n",
       "      <td>-0.978944</td>\n",
       "      <td>-0.996520</td>\n",
       "      <td>-0.963668</td>\n",
       "      <td>-0.977469</td>\n",
       "      <td>-0.938692</td>\n",
       "      <td>...</td>\n",
       "      <td>-0.760104</td>\n",
       "      <td>-0.118559</td>\n",
       "      <td>0.177899</td>\n",
       "      <td>0.100699</td>\n",
       "      <td>0.808529</td>\n",
       "      <td>-0.848933</td>\n",
       "      <td>0.180637</td>\n",
       "      <td>-0.049118</td>\n",
       "      <td>1</td>\n",
       "      <td>STANDING</td>\n",
       "    </tr>\n",
       "    <tr>\n",
       "      <th>3</th>\n",
       "      <td>0.279174</td>\n",
       "      <td>-0.026201</td>\n",
       "      <td>-0.123283</td>\n",
       "      <td>-0.996091</td>\n",
       "      <td>-0.983403</td>\n",
       "      <td>-0.990675</td>\n",
       "      <td>-0.997099</td>\n",
       "      <td>-0.982750</td>\n",
       "      <td>-0.989302</td>\n",
       "      <td>-0.938692</td>\n",
       "      <td>...</td>\n",
       "      <td>-0.482845</td>\n",
       "      <td>-0.036788</td>\n",
       "      <td>-0.012892</td>\n",
       "      <td>0.640011</td>\n",
       "      <td>-0.485366</td>\n",
       "      <td>-0.848649</td>\n",
       "      <td>0.181935</td>\n",
       "      <td>-0.047663</td>\n",
       "      <td>1</td>\n",
       "      <td>STANDING</td>\n",
       "    </tr>\n",
       "    <tr>\n",
       "      <th>4</th>\n",
       "      <td>0.276629</td>\n",
       "      <td>-0.016570</td>\n",
       "      <td>-0.115362</td>\n",
       "      <td>-0.998139</td>\n",
       "      <td>-0.980817</td>\n",
       "      <td>-0.990482</td>\n",
       "      <td>-0.998321</td>\n",
       "      <td>-0.979672</td>\n",
       "      <td>-0.990441</td>\n",
       "      <td>-0.942469</td>\n",
       "      <td>...</td>\n",
       "      <td>-0.699205</td>\n",
       "      <td>0.123320</td>\n",
       "      <td>0.122542</td>\n",
       "      <td>0.693578</td>\n",
       "      <td>-0.615971</td>\n",
       "      <td>-0.847865</td>\n",
       "      <td>0.185151</td>\n",
       "      <td>-0.043892</td>\n",
       "      <td>1</td>\n",
       "      <td>STANDING</td>\n",
       "    </tr>\n",
       "  </tbody>\n",
       "</table>\n",
       "<p>5 rows × 563 columns</p>\n",
       "</div>"
      ],
      "text/plain": [
       "   tBodyAcc-mean()-X  tBodyAcc-mean()-Y  tBodyAcc-mean()-Z  tBodyAcc-std()-X  \\\n",
       "0           0.288585          -0.020294          -0.132905         -0.995279   \n",
       "1           0.278419          -0.016411          -0.123520         -0.998245   \n",
       "2           0.279653          -0.019467          -0.113462         -0.995380   \n",
       "3           0.279174          -0.026201          -0.123283         -0.996091   \n",
       "4           0.276629          -0.016570          -0.115362         -0.998139   \n",
       "\n",
       "   tBodyAcc-std()-Y  tBodyAcc-std()-Z  tBodyAcc-mad()-X  tBodyAcc-mad()-Y  \\\n",
       "0         -0.983111         -0.913526         -0.995112         -0.983185   \n",
       "1         -0.975300         -0.960322         -0.998807         -0.974914   \n",
       "2         -0.967187         -0.978944         -0.996520         -0.963668   \n",
       "3         -0.983403         -0.990675         -0.997099         -0.982750   \n",
       "4         -0.980817         -0.990482         -0.998321         -0.979672   \n",
       "\n",
       "   tBodyAcc-mad()-Z  tBodyAcc-max()-X    ...     \\\n",
       "0         -0.923527         -0.934724    ...      \n",
       "1         -0.957686         -0.943068    ...      \n",
       "2         -0.977469         -0.938692    ...      \n",
       "3         -0.989302         -0.938692    ...      \n",
       "4         -0.990441         -0.942469    ...      \n",
       "\n",
       "   fBodyBodyGyroJerkMag-kurtosis()  angle(tBodyAccMean,gravity)  \\\n",
       "0                        -0.710304                    -0.112754   \n",
       "1                        -0.861499                     0.053477   \n",
       "2                        -0.760104                    -0.118559   \n",
       "3                        -0.482845                    -0.036788   \n",
       "4                        -0.699205                     0.123320   \n",
       "\n",
       "   angle(tBodyAccJerkMean),gravityMean)  angle(tBodyGyroMean,gravityMean)  \\\n",
       "0                              0.030400                         -0.464761   \n",
       "1                             -0.007435                         -0.732626   \n",
       "2                              0.177899                          0.100699   \n",
       "3                             -0.012892                          0.640011   \n",
       "4                              0.122542                          0.693578   \n",
       "\n",
       "   angle(tBodyGyroJerkMean,gravityMean)  angle(X,gravityMean)  \\\n",
       "0                             -0.018446             -0.841247   \n",
       "1                              0.703511             -0.844788   \n",
       "2                              0.808529             -0.848933   \n",
       "3                             -0.485366             -0.848649   \n",
       "4                             -0.615971             -0.847865   \n",
       "\n",
       "   angle(Y,gravityMean)  angle(Z,gravityMean)  subject  Activity  \n",
       "0              0.179941             -0.058627        1  STANDING  \n",
       "1              0.180289             -0.054317        1  STANDING  \n",
       "2              0.180637             -0.049118        1  STANDING  \n",
       "3              0.181935             -0.047663        1  STANDING  \n",
       "4              0.185151             -0.043892        1  STANDING  \n",
       "\n",
       "[5 rows x 563 columns]"
      ]
     },
     "execution_count": 97,
     "metadata": {},
     "output_type": "execute_result"
    }
   ],
   "source": [
    "train.head()"
   ]
  },
  {
   "cell_type": "code",
   "execution_count": 98,
   "metadata": {
    "collapsed": false
   },
   "outputs": [
    {
     "data": {
      "text/plain": [
       "WALKING               209\n",
       "STANDING              179\n",
       "LAYING                164\n",
       "WALKING_UPSTAIRS      159\n",
       "WALKING_DOWNSTAIRS    145\n",
       "SITTING               143\n",
       "Name: Activity, dtype: int64"
      ]
     },
     "execution_count": 98,
     "metadata": {},
     "output_type": "execute_result"
    }
   ],
   "source": [
    "train.Activity.value_counts()"
   ]
  },
  {
   "cell_type": "code",
   "execution_count": 99,
   "metadata": {
    "collapsed": false
   },
   "outputs": [
    {
     "data": {
      "text/plain": [
       "((999, 563), (999, 563))"
      ]
     },
     "execution_count": 99,
     "metadata": {},
     "output_type": "execute_result"
    }
   ],
   "source": [
    "train.shape,test.shape"
   ]
  },
  {
   "cell_type": "code",
   "execution_count": 100,
   "metadata": {
    "collapsed": false
   },
   "outputs": [
    {
     "data": {
      "text/plain": [
       "WALKING               185\n",
       "LAYING                183\n",
       "STANDING              178\n",
       "SITTING               170\n",
       "WALKING_UPSTAIRS      149\n",
       "WALKING_DOWNSTAIRS    134\n",
       "Name: Activity, dtype: int64"
      ]
     },
     "execution_count": 100,
     "metadata": {},
     "output_type": "execute_result"
    }
   ],
   "source": [
    "test.Activity.value_counts()"
   ]
  },
  {
   "cell_type": "code",
   "execution_count": 101,
   "metadata": {
    "collapsed": true
   },
   "outputs": [],
   "source": [
    "# suffling data \n",
    "from sklearn.utils import shuffle\n",
    "\n",
    "test  = shuffle(test)\n",
    "train = shuffle(train)"
   ]
  },
  {
   "cell_type": "code",
   "execution_count": 102,
   "metadata": {
    "collapsed": true
   },
   "outputs": [],
   "source": [
    "# separating data inputs and output lables \n",
    "trainData  = train.drop('Activity' , axis=1).values\n",
    "trainLabel = train.Activity.values\n",
    "\n",
    "testData  = test.drop('Activity' , axis=1).values\n",
    "testLabel = test.Activity.values"
   ]
  },
  {
   "cell_type": "code",
   "execution_count": 103,
   "metadata": {
    "collapsed": true
   },
   "outputs": [],
   "source": [
    "# encoding labels \n",
    "from sklearn import preprocessing\n",
    "\n",
    "encoder = preprocessing.LabelEncoder()\n",
    "\n",
    "# encoding test labels \n",
    "encoder.fit(testLabel)\n",
    "testLabelE = encoder.transform(testLabel)\n",
    "\n",
    "# encoding train labels \n",
    "encoder.fit(trainLabel)\n",
    "trainLabelE = encoder.transform(trainLabel)"
   ]
  },
  {
   "cell_type": "code",
   "execution_count": 104,
   "metadata": {
    "collapsed": true
   },
   "outputs": [],
   "source": [
    "# target variable is categorical\n",
    "# IV's are num"
   ]
  },
  {
   "cell_type": "code",
   "execution_count": null,
   "metadata": {
    "collapsed": true
   },
   "outputs": [],
   "source": [
    "# classification models:\n",
    "# Decision tree\n",
    "# SVM\n",
    "# NN\n",
    "# RF\n",
    "# GBM\n",
    "# DNN\n",
    "# ANN\n",
    "# DNN"
   ]
  },
  {
   "cell_type": "code",
   "execution_count": 107,
   "metadata": {
    "collapsed": true
   },
   "outputs": [],
   "source": [
    "# applying supervised neural network using multi-layer preceptron \n",
    "import sklearn.neural_network as nn \n",
    "mlpSGD  =  nn.MLPClassifier(hidden_layer_sizes=(90,)  \\\n",
    "                        , max_iter=1000 , alpha=1e-4  \\\n",
    "                        , solver='sgd' , verbose=10   \\\n",
    "                        , tol=1e-19 , random_state=1  \\\n",
    "                        , learning_rate_init=.001)"
   ]
  },
  {
   "cell_type": "code",
   "execution_count": 108,
   "metadata": {
    "collapsed": true
   },
   "outputs": [],
   "source": [
    "mlpADAM =  nn.MLPClassifier(hidden_layer_sizes=(90,)  \\\n",
    "                        , max_iter=1000 , alpha=1e-4  \\\n",
    "                        , solver='adam' , verbose=10  \\\n",
    "                        , tol=1e-19 , random_state=1  \\\n",
    "                        , learning_rate_init=.001) "
   ]
  },
  {
   "cell_type": "code",
   "execution_count": 109,
   "metadata": {
    "collapsed": true
   },
   "outputs": [],
   "source": [
    "mlpLBFGS =  nn.MLPClassifier(hidden_layer_sizes=(90,)  \\\n",
    "                        , max_iter=1000 , alpha=1e-4  \\\n",
    "                        , solver='lbfgs' , verbose=10  \\\n",
    "                        , tol=1e-19 , random_state=1  \\\n",
    "                        , learning_rate_init=.001) "
   ]
  },
  {
   "cell_type": "code",
   "execution_count": 110,
   "metadata": {
    "collapsed": false
   },
   "outputs": [
    {
     "name": "stdout",
     "output_type": "stream",
     "text": [
      "Iteration 1, loss = 2.15895139\n",
      "Iteration 2, loss = 1.87903595\n",
      "Iteration 3, loss = 1.67040688\n",
      "Iteration 4, loss = 1.51356245\n",
      "Iteration 5, loss = 1.37237918\n",
      "Iteration 6, loss = 1.28004758\n",
      "Iteration 7, loss = 1.20854234\n",
      "Iteration 8, loss = 1.14580848\n",
      "Iteration 9, loss = 1.09024724\n",
      "Iteration 10, loss = 1.04195468\n",
      "Iteration 11, loss = 0.99850355\n",
      "Iteration 12, loss = 0.96070234\n",
      "Iteration 13, loss = 0.92682074\n",
      "Iteration 14, loss = 0.89501235\n",
      "Iteration 15, loss = 0.86681482\n",
      "Iteration 16, loss = 0.83970837\n",
      "Iteration 17, loss = 0.81478511\n",
      "Iteration 18, loss = 0.79166317\n",
      "Iteration 19, loss = 0.77028447\n",
      "Iteration 20, loss = 0.75000566\n",
      "Iteration 21, loss = 0.73093485\n",
      "Iteration 22, loss = 0.71252176\n",
      "Iteration 23, loss = 0.69554510\n",
      "Iteration 24, loss = 0.67948100\n",
      "Iteration 25, loss = 0.66313550\n",
      "Iteration 26, loss = 0.64917612\n",
      "Iteration 27, loss = 0.63453342\n",
      "Iteration 28, loss = 0.62083160\n",
      "Iteration 29, loss = 0.60859884\n",
      "Iteration 30, loss = 0.59607310\n",
      "Iteration 31, loss = 0.58378380\n",
      "Iteration 32, loss = 0.57286139\n",
      "Iteration 33, loss = 0.56079334\n",
      "Iteration 34, loss = 0.55003980\n",
      "Iteration 35, loss = 0.53933997\n",
      "Iteration 36, loss = 0.52993921\n",
      "Iteration 37, loss = 0.52052510\n",
      "Iteration 38, loss = 0.51099496\n",
      "Iteration 39, loss = 0.50156972\n",
      "Iteration 40, loss = 0.49306975\n",
      "Iteration 41, loss = 0.48515371\n",
      "Iteration 42, loss = 0.47650764\n",
      "Iteration 43, loss = 0.46905695\n",
      "Iteration 44, loss = 0.46122016\n",
      "Iteration 45, loss = 0.45409651\n",
      "Iteration 46, loss = 0.44708681\n",
      "Iteration 47, loss = 0.44025216\n",
      "Iteration 48, loss = 0.43358919\n",
      "Iteration 49, loss = 0.42712390\n",
      "Iteration 50, loss = 0.42059312\n",
      "Iteration 51, loss = 0.41463283\n",
      "Iteration 52, loss = 0.40846515\n",
      "Iteration 53, loss = 0.40276149\n",
      "Iteration 54, loss = 0.39727359\n",
      "Iteration 55, loss = 0.39175581\n",
      "Iteration 56, loss = 0.38637655\n",
      "Iteration 57, loss = 0.38113279\n",
      "Iteration 58, loss = 0.37635769\n",
      "Iteration 59, loss = 0.37128385\n",
      "Iteration 60, loss = 0.36655504\n",
      "Iteration 61, loss = 0.36177040\n",
      "Iteration 62, loss = 0.35718316\n",
      "Iteration 63, loss = 0.35304855\n",
      "Iteration 64, loss = 0.34856193\n",
      "Iteration 65, loss = 0.34440418\n",
      "Iteration 66, loss = 0.34054340\n",
      "Iteration 67, loss = 0.33640372\n",
      "Iteration 68, loss = 0.33225102\n",
      "Iteration 69, loss = 0.32882152\n",
      "Iteration 70, loss = 0.32447469\n",
      "Iteration 71, loss = 0.32089570\n",
      "Iteration 72, loss = 0.31753096\n",
      "Iteration 73, loss = 0.31404469\n",
      "Iteration 74, loss = 0.31047839\n",
      "Iteration 75, loss = 0.30681339\n",
      "Iteration 76, loss = 0.30353214\n",
      "Iteration 77, loss = 0.30060015\n",
      "Iteration 78, loss = 0.29764755\n",
      "Iteration 79, loss = 0.29411908\n",
      "Iteration 80, loss = 0.29161392\n",
      "Iteration 81, loss = 0.28815901\n",
      "Iteration 82, loss = 0.28506833\n",
      "Iteration 83, loss = 0.28252683\n",
      "Iteration 84, loss = 0.27966341\n",
      "Iteration 85, loss = 0.27637391\n",
      "Iteration 86, loss = 0.27433637\n",
      "Iteration 87, loss = 0.27137483\n",
      "Iteration 88, loss = 0.26870898\n",
      "Iteration 89, loss = 0.26625961\n",
      "Iteration 90, loss = 0.26356274\n",
      "Iteration 91, loss = 0.26109527\n",
      "Iteration 92, loss = 0.25903753\n",
      "Iteration 93, loss = 0.25640361\n",
      "Iteration 94, loss = 0.25396189\n",
      "Iteration 95, loss = 0.25159820\n",
      "Iteration 96, loss = 0.24922283\n",
      "Iteration 97, loss = 0.24704386\n",
      "Iteration 98, loss = 0.24487389\n",
      "Iteration 99, loss = 0.24291762\n",
      "Iteration 100, loss = 0.24051854\n",
      "Iteration 101, loss = 0.23849917\n",
      "Iteration 102, loss = 0.23630951\n",
      "Iteration 103, loss = 0.23486065\n",
      "Iteration 104, loss = 0.23212907\n",
      "Iteration 105, loss = 0.23026362\n",
      "Iteration 106, loss = 0.22842902\n",
      "Iteration 107, loss = 0.22637583\n",
      "Iteration 108, loss = 0.22445027\n",
      "Iteration 109, loss = 0.22259391\n",
      "Iteration 110, loss = 0.22076436\n",
      "Iteration 111, loss = 0.21897191\n",
      "Iteration 112, loss = 0.21716516\n",
      "Iteration 113, loss = 0.21604603\n",
      "Iteration 114, loss = 0.21374992\n",
      "Iteration 115, loss = 0.21233265\n",
      "Iteration 116, loss = 0.21049392\n",
      "Iteration 117, loss = 0.20874020\n",
      "Iteration 118, loss = 0.20739107\n",
      "Iteration 119, loss = 0.20550802\n",
      "Iteration 120, loss = 0.20426650\n",
      "Iteration 121, loss = 0.20260053\n",
      "Iteration 122, loss = 0.20088299\n",
      "Iteration 123, loss = 0.19940366\n",
      "Iteration 124, loss = 0.19798478\n",
      "Iteration 125, loss = 0.19648202\n",
      "Iteration 126, loss = 0.19517759\n",
      "Iteration 127, loss = 0.19357122\n",
      "Iteration 128, loss = 0.19283669\n",
      "Iteration 129, loss = 0.19105880\n",
      "Iteration 130, loss = 0.18948776\n",
      "Iteration 131, loss = 0.18836390\n",
      "Iteration 132, loss = 0.18693222\n",
      "Iteration 133, loss = 0.18569412\n",
      "Iteration 134, loss = 0.18422147\n",
      "Iteration 135, loss = 0.18303157\n",
      "Iteration 136, loss = 0.18189252\n",
      "Iteration 137, loss = 0.18046298\n",
      "Iteration 138, loss = 0.17951649\n",
      "Iteration 139, loss = 0.17828038\n",
      "Iteration 140, loss = 0.17672410\n",
      "Iteration 141, loss = 0.17606601\n",
      "Iteration 142, loss = 0.17518724\n",
      "Iteration 143, loss = 0.17330728\n",
      "Iteration 144, loss = 0.17264032\n",
      "Iteration 145, loss = 0.17105116\n",
      "Iteration 146, loss = 0.17016568\n",
      "Iteration 147, loss = 0.16890774\n",
      "Iteration 148, loss = 0.16772428\n",
      "Iteration 149, loss = 0.16686528\n",
      "Iteration 150, loss = 0.16567946\n",
      "Iteration 151, loss = 0.16478709\n",
      "Iteration 152, loss = 0.16359238\n",
      "Iteration 153, loss = 0.16292320\n",
      "Iteration 154, loss = 0.16239921\n",
      "Iteration 155, loss = 0.16070902\n",
      "Iteration 156, loss = 0.15968280\n",
      "Iteration 157, loss = 0.15867296\n",
      "Iteration 158, loss = 0.15756786\n",
      "Iteration 159, loss = 0.15682700\n",
      "Iteration 160, loss = 0.15608313\n",
      "Iteration 161, loss = 0.15493659\n",
      "Iteration 162, loss = 0.15427850\n",
      "Iteration 163, loss = 0.15305896\n",
      "Iteration 164, loss = 0.15230673\n",
      "Iteration 165, loss = 0.15117638\n",
      "Iteration 166, loss = 0.15032422\n",
      "Iteration 167, loss = 0.14943563\n",
      "Iteration 168, loss = 0.14880338\n",
      "Iteration 169, loss = 0.14796819\n",
      "Iteration 170, loss = 0.14701593\n",
      "Iteration 171, loss = 0.14614453\n",
      "Iteration 172, loss = 0.14532389\n",
      "Iteration 173, loss = 0.14474012\n",
      "Iteration 174, loss = 0.14351255\n",
      "Iteration 175, loss = 0.14303764\n",
      "Iteration 176, loss = 0.14231140\n",
      "Iteration 177, loss = 0.14166134\n",
      "Iteration 178, loss = 0.14071915\n",
      "Iteration 179, loss = 0.13992245\n",
      "Iteration 180, loss = 0.13890134\n",
      "Iteration 181, loss = 0.13814780\n",
      "Iteration 182, loss = 0.13750713\n",
      "Iteration 183, loss = 0.13702362\n",
      "Iteration 184, loss = 0.13593245\n",
      "Iteration 185, loss = 0.13544760\n",
      "Iteration 186, loss = 0.13447160\n",
      "Iteration 187, loss = 0.13411047\n",
      "Iteration 188, loss = 0.13328751\n",
      "Iteration 189, loss = 0.13240627\n",
      "Iteration 190, loss = 0.13187732\n",
      "Iteration 191, loss = 0.13127861\n",
      "Iteration 192, loss = 0.13037360\n",
      "Iteration 193, loss = 0.12978489\n",
      "Iteration 194, loss = 0.12893066\n",
      "Iteration 195, loss = 0.12853329\n",
      "Iteration 196, loss = 0.12792650\n",
      "Iteration 197, loss = 0.12739020\n",
      "Iteration 198, loss = 0.12651803\n",
      "Iteration 199, loss = 0.12638185\n",
      "Iteration 200, loss = 0.12513488\n",
      "Iteration 201, loss = 0.12474643\n",
      "Iteration 202, loss = 0.12418749\n",
      "Iteration 203, loss = 0.12334429\n",
      "Iteration 204, loss = 0.12311733\n",
      "Iteration 205, loss = 0.12231949\n",
      "Iteration 206, loss = 0.12153064\n",
      "Iteration 207, loss = 0.12120357\n",
      "Iteration 208, loss = 0.12056527\n",
      "Iteration 209, loss = 0.11981070\n",
      "Iteration 210, loss = 0.11925110\n",
      "Iteration 211, loss = 0.11879167\n",
      "Iteration 212, loss = 0.11809434\n",
      "Iteration 213, loss = 0.11763416\n",
      "Iteration 214, loss = 0.11748709\n",
      "Iteration 215, loss = 0.11658730\n",
      "Iteration 216, loss = 0.11599079\n",
      "Iteration 217, loss = 0.11554833\n",
      "Iteration 218, loss = 0.11490372\n",
      "Iteration 219, loss = 0.11420351\n",
      "Iteration 220, loss = 0.11414308\n",
      "Iteration 221, loss = 0.11341510\n",
      "Iteration 222, loss = 0.11278784\n",
      "Iteration 223, loss = 0.11234377\n",
      "Iteration 224, loss = 0.11165228\n",
      "Iteration 225, loss = 0.11122598\n",
      "Iteration 226, loss = 0.11077492\n",
      "Iteration 227, loss = 0.11046429\n",
      "Iteration 228, loss = 0.10971363\n",
      "Iteration 229, loss = 0.10947967\n",
      "Iteration 230, loss = 0.10891856\n",
      "Iteration 231, loss = 0.10819998\n",
      "Iteration 232, loss = 0.10817934\n",
      "Iteration 233, loss = 0.10764575\n",
      "Iteration 234, loss = 0.10684183\n",
      "Iteration 235, loss = 0.10642675\n",
      "Iteration 236, loss = 0.10614252\n",
      "Iteration 237, loss = 0.10569317\n",
      "Iteration 238, loss = 0.10527847\n",
      "Iteration 239, loss = 0.10464034\n",
      "Iteration 240, loss = 0.10403577\n",
      "Iteration 241, loss = 0.10394716\n",
      "Iteration 242, loss = 0.10314033\n",
      "Iteration 243, loss = 0.10283011\n",
      "Iteration 244, loss = 0.10245201\n",
      "Iteration 245, loss = 0.10192763\n",
      "Iteration 246, loss = 0.10147411\n",
      "Iteration 247, loss = 0.10116990\n",
      "Iteration 248, loss = 0.10063450\n",
      "Iteration 249, loss = 0.10047868\n",
      "Iteration 250, loss = 0.09973474\n",
      "Iteration 251, loss = 0.09928572\n",
      "Iteration 252, loss = 0.09914292\n",
      "Iteration 253, loss = 0.09850955\n",
      "Iteration 254, loss = 0.09815936\n",
      "Iteration 255, loss = 0.09768746\n",
      "Iteration 256, loss = 0.09738796\n",
      "Iteration 257, loss = 0.09698458\n",
      "Iteration 258, loss = 0.09652245\n",
      "Iteration 259, loss = 0.09611543\n",
      "Iteration 260, loss = 0.09602591\n",
      "Iteration 261, loss = 0.09531729\n",
      "Iteration 262, loss = 0.09504257\n",
      "Iteration 263, loss = 0.09466144\n",
      "Iteration 264, loss = 0.09422847\n",
      "Iteration 265, loss = 0.09409103\n",
      "Iteration 266, loss = 0.09342033\n",
      "Iteration 267, loss = 0.09343641\n",
      "Iteration 268, loss = 0.09282362\n",
      "Iteration 269, loss = 0.09241096\n",
      "Iteration 270, loss = 0.09213291\n",
      "Iteration 271, loss = 0.09189600\n",
      "Iteration 272, loss = 0.09126247\n",
      "Iteration 273, loss = 0.09097170\n",
      "Iteration 274, loss = 0.09058065\n",
      "Iteration 275, loss = 0.09041935\n",
      "Iteration 276, loss = 0.08984766\n",
      "Iteration 277, loss = 0.08961342\n",
      "Iteration 278, loss = 0.08932219\n",
      "Iteration 279, loss = 0.08912948\n",
      "Iteration 280, loss = 0.08879505\n",
      "Iteration 281, loss = 0.08818516\n",
      "Iteration 282, loss = 0.08786004\n",
      "Iteration 283, loss = 0.08778938\n",
      "Iteration 284, loss = 0.08722901\n",
      "Iteration 285, loss = 0.08682332\n",
      "Iteration 286, loss = 0.08658250\n",
      "Iteration 287, loss = 0.08624041\n",
      "Iteration 288, loss = 0.08629222\n",
      "Iteration 289, loss = 0.08560505\n",
      "Iteration 290, loss = 0.08524046\n",
      "Iteration 291, loss = 0.08502087\n",
      "Iteration 292, loss = 0.08475021\n",
      "Iteration 293, loss = 0.08429105\n",
      "Iteration 294, loss = 0.08415761\n",
      "Iteration 295, loss = 0.08376628\n",
      "Iteration 296, loss = 0.08337671\n",
      "Iteration 297, loss = 0.08310714\n",
      "Iteration 298, loss = 0.08274700\n",
      "Iteration 299, loss = 0.08242960\n",
      "Iteration 300, loss = 0.08265295\n",
      "Iteration 301, loss = 0.08225055\n",
      "Iteration 302, loss = 0.08153285\n",
      "Iteration 303, loss = 0.08132306\n",
      "Iteration 304, loss = 0.08110216\n",
      "Iteration 305, loss = 0.08067156\n",
      "Iteration 306, loss = 0.08039642\n",
      "Iteration 307, loss = 0.08006274\n",
      "Iteration 308, loss = 0.07986557\n",
      "Iteration 309, loss = 0.07949950\n",
      "Iteration 310, loss = 0.07944071\n",
      "Iteration 311, loss = 0.07922871\n",
      "Iteration 312, loss = 0.07891023\n",
      "Iteration 313, loss = 0.07859711\n",
      "Iteration 314, loss = 0.07808227\n",
      "Iteration 315, loss = 0.07794071\n",
      "Iteration 316, loss = 0.07781192\n",
      "Iteration 317, loss = 0.07768779\n",
      "Iteration 318, loss = 0.07717301\n",
      "Iteration 319, loss = 0.07673873\n",
      "Iteration 320, loss = 0.07652496\n",
      "Iteration 321, loss = 0.07628706\n",
      "Iteration 322, loss = 0.07608283\n",
      "Iteration 323, loss = 0.07642593\n",
      "Iteration 324, loss = 0.07567646\n",
      "Iteration 325, loss = 0.07532486\n",
      "Iteration 326, loss = 0.07504361\n",
      "Iteration 327, loss = 0.07474951\n",
      "Iteration 328, loss = 0.07446445\n",
      "Iteration 329, loss = 0.07416525\n",
      "Iteration 330, loss = 0.07411189\n",
      "Iteration 331, loss = 0.07369779\n",
      "Iteration 332, loss = 0.07363486\n",
      "Iteration 333, loss = 0.07330630\n",
      "Iteration 334, loss = 0.07291589\n",
      "Iteration 335, loss = 0.07283795\n",
      "Iteration 336, loss = 0.07259992\n",
      "Iteration 337, loss = 0.07245639\n",
      "Iteration 338, loss = 0.07191856\n",
      "Iteration 339, loss = 0.07184901\n",
      "Iteration 340, loss = 0.07155495\n",
      "Iteration 341, loss = 0.07132657\n",
      "Iteration 342, loss = 0.07127658\n",
      "Iteration 343, loss = 0.07084767\n",
      "Iteration 344, loss = 0.07068217\n",
      "Iteration 345, loss = 0.07041057\n",
      "Iteration 346, loss = 0.07015125\n",
      "Iteration 347, loss = 0.06980048\n",
      "Iteration 348, loss = 0.06967177\n",
      "Iteration 349, loss = 0.06957519\n",
      "Iteration 350, loss = 0.06916409\n",
      "Iteration 351, loss = 0.06902640\n",
      "Iteration 352, loss = 0.06878220\n",
      "Iteration 353, loss = 0.06864474\n",
      "Iteration 354, loss = 0.06835764\n",
      "Iteration 355, loss = 0.06806906\n",
      "Iteration 356, loss = 0.06810489\n",
      "Iteration 357, loss = 0.06817204\n",
      "Iteration 358, loss = 0.06757405\n",
      "Iteration 359, loss = 0.06739914\n",
      "Iteration 360, loss = 0.06701373\n",
      "Iteration 361, loss = 0.06714533\n",
      "Iteration 362, loss = 0.06704335\n",
      "Iteration 363, loss = 0.06645232\n",
      "Iteration 364, loss = 0.06614633\n",
      "Iteration 365, loss = 0.06606360\n",
      "Iteration 366, loss = 0.06573717\n",
      "Iteration 367, loss = 0.06577728\n",
      "Iteration 368, loss = 0.06528893\n",
      "Iteration 369, loss = 0.06505005\n",
      "Iteration 370, loss = 0.06490619\n",
      "Iteration 371, loss = 0.06488110\n",
      "Iteration 372, loss = 0.06453798\n",
      "Iteration 373, loss = 0.06425908\n",
      "Iteration 374, loss = 0.06407968\n",
      "Iteration 375, loss = 0.06389842\n",
      "Iteration 376, loss = 0.06372829\n",
      "Iteration 377, loss = 0.06343369\n",
      "Iteration 378, loss = 0.06326049\n",
      "Iteration 379, loss = 0.06306372\n",
      "Iteration 380, loss = 0.06288437\n",
      "Iteration 381, loss = 0.06276621\n",
      "Iteration 382, loss = 0.06297851\n",
      "Iteration 383, loss = 0.06288467\n",
      "Iteration 384, loss = 0.06213299\n",
      "Iteration 385, loss = 0.06200726\n",
      "Iteration 386, loss = 0.06173932\n",
      "Iteration 387, loss = 0.06162734\n",
      "Iteration 388, loss = 0.06131474\n",
      "Iteration 389, loss = 0.06142700\n",
      "Iteration 390, loss = 0.06129999\n",
      "Iteration 391, loss = 0.06122943\n",
      "Iteration 392, loss = 0.06073609\n",
      "Iteration 393, loss = 0.06059518\n",
      "Iteration 394, loss = 0.06034819\n",
      "Iteration 395, loss = 0.06009171\n",
      "Iteration 396, loss = 0.05995604\n",
      "Iteration 397, loss = 0.05973798\n",
      "Iteration 398, loss = 0.05957829\n",
      "Iteration 399, loss = 0.05943576\n",
      "Iteration 400, loss = 0.05943149\n",
      "Iteration 401, loss = 0.05902746\n",
      "Iteration 402, loss = 0.05888235\n",
      "Iteration 403, loss = 0.05863761\n",
      "Iteration 404, loss = 0.05855522\n",
      "Iteration 405, loss = 0.05856395\n",
      "Iteration 406, loss = 0.05820253\n",
      "Iteration 407, loss = 0.05802172\n",
      "Iteration 408, loss = 0.05780052\n",
      "Iteration 409, loss = 0.05766406\n",
      "Iteration 410, loss = 0.05747977\n",
      "Iteration 411, loss = 0.05729978\n",
      "Iteration 412, loss = 0.05720240\n",
      "Iteration 413, loss = 0.05703747\n",
      "Iteration 414, loss = 0.05705284\n",
      "Iteration 415, loss = 0.05674177\n",
      "Iteration 416, loss = 0.05651410\n",
      "Iteration 417, loss = 0.05640675\n",
      "Iteration 418, loss = 0.05620845\n",
      "Iteration 419, loss = 0.05606637\n",
      "Iteration 420, loss = 0.05613028\n",
      "Iteration 421, loss = 0.05577683\n",
      "Iteration 422, loss = 0.05565438\n",
      "Iteration 423, loss = 0.05541108\n",
      "Iteration 424, loss = 0.05539210\n",
      "Iteration 425, loss = 0.05514613\n",
      "Iteration 426, loss = 0.05503402\n",
      "Iteration 427, loss = 0.05487158\n",
      "Iteration 428, loss = 0.05472645\n",
      "Iteration 429, loss = 0.05453287\n",
      "Iteration 430, loss = 0.05432697\n",
      "Iteration 431, loss = 0.05418542\n",
      "Iteration 432, loss = 0.05406487\n",
      "Iteration 433, loss = 0.05403629\n",
      "Iteration 434, loss = 0.05377793\n",
      "Iteration 435, loss = 0.05361578\n",
      "Iteration 436, loss = 0.05354539\n",
      "Iteration 437, loss = 0.05334493\n",
      "Iteration 438, loss = 0.05321597\n",
      "Iteration 439, loss = 0.05302727\n",
      "Iteration 440, loss = 0.05287523\n",
      "Iteration 441, loss = 0.05277376\n",
      "Iteration 442, loss = 0.05263412\n",
      "Iteration 443, loss = 0.05253663\n",
      "Iteration 444, loss = 0.05234936\n",
      "Iteration 445, loss = 0.05230005\n",
      "Iteration 446, loss = 0.05203776\n",
      "Iteration 447, loss = 0.05204777\n",
      "Iteration 448, loss = 0.05188231\n",
      "Iteration 449, loss = 0.05162361\n",
      "Iteration 450, loss = 0.05156755\n",
      "Iteration 451, loss = 0.05142667\n",
      "Iteration 452, loss = 0.05126891\n",
      "Iteration 453, loss = 0.05108765\n",
      "Iteration 454, loss = 0.05092640\n",
      "Iteration 455, loss = 0.05096800\n",
      "Iteration 456, loss = 0.05071857\n",
      "Iteration 457, loss = 0.05073835\n",
      "Iteration 458, loss = 0.05045818\n",
      "Iteration 459, loss = 0.05037231\n",
      "Iteration 460, loss = 0.05031711\n",
      "Iteration 461, loss = 0.05003107\n",
      "Iteration 462, loss = 0.04988826\n",
      "Iteration 463, loss = 0.04981483\n",
      "Iteration 464, loss = 0.04967599\n",
      "Iteration 465, loss = 0.04958853\n",
      "Iteration 466, loss = 0.04953486\n",
      "Iteration 467, loss = 0.04925002\n",
      "Iteration 468, loss = 0.04913512\n",
      "Iteration 469, loss = 0.04904682\n",
      "Iteration 470, loss = 0.04892454\n",
      "Iteration 471, loss = 0.04882436\n",
      "Iteration 472, loss = 0.04871184\n",
      "Iteration 473, loss = 0.04866505\n",
      "Iteration 474, loss = 0.04845499\n",
      "Iteration 475, loss = 0.04842451\n",
      "Iteration 476, loss = 0.04816175\n",
      "Iteration 477, loss = 0.04801965\n",
      "Iteration 478, loss = 0.04790458\n",
      "Iteration 479, loss = 0.04795354\n",
      "Iteration 480, loss = 0.04766198\n",
      "Iteration 481, loss = 0.04768057\n",
      "Iteration 482, loss = 0.04767252\n",
      "Iteration 483, loss = 0.04738963\n",
      "Iteration 484, loss = 0.04724816\n",
      "Iteration 485, loss = 0.04710888\n",
      "Iteration 486, loss = 0.04707608\n",
      "Iteration 487, loss = 0.04685006\n",
      "Iteration 488, loss = 0.04673642\n",
      "Iteration 489, loss = 0.04667517\n",
      "Iteration 490, loss = 0.04655495\n",
      "Iteration 491, loss = 0.04646202\n",
      "Iteration 492, loss = 0.04642835\n",
      "Iteration 493, loss = 0.04616965\n",
      "Iteration 494, loss = 0.04618490\n",
      "Iteration 495, loss = 0.04590885\n",
      "Iteration 496, loss = 0.04593950\n",
      "Iteration 497, loss = 0.04580978\n",
      "Iteration 498, loss = 0.04559054\n",
      "Iteration 499, loss = 0.04562531\n",
      "Iteration 500, loss = 0.04538049\n",
      "Iteration 501, loss = 0.04531962\n",
      "Iteration 502, loss = 0.04522277\n",
      "Iteration 503, loss = 0.04507432\n",
      "Iteration 504, loss = 0.04512984\n",
      "Iteration 505, loss = 0.04485065\n",
      "Iteration 506, loss = 0.04476939\n",
      "Iteration 507, loss = 0.04460331\n",
      "Iteration 508, loss = 0.04449363\n",
      "Iteration 509, loss = 0.04442344\n",
      "Iteration 510, loss = 0.04441520\n",
      "Iteration 511, loss = 0.04421341\n",
      "Iteration 512, loss = 0.04409943\n",
      "Iteration 513, loss = 0.04396504\n",
      "Iteration 514, loss = 0.04392525\n",
      "Iteration 515, loss = 0.04373600\n",
      "Iteration 516, loss = 0.04366355\n",
      "Iteration 517, loss = 0.04360985\n",
      "Iteration 518, loss = 0.04353934\n",
      "Iteration 519, loss = 0.04340201\n",
      "Iteration 520, loss = 0.04327878\n",
      "Iteration 521, loss = 0.04313116\n",
      "Iteration 522, loss = 0.04308748\n",
      "Iteration 523, loss = 0.04294827\n",
      "Iteration 524, loss = 0.04292499\n",
      "Iteration 525, loss = 0.04277471\n",
      "Iteration 526, loss = 0.04280411\n",
      "Iteration 527, loss = 0.04255406\n",
      "Iteration 528, loss = 0.04263997\n",
      "Iteration 529, loss = 0.04238355\n",
      "Iteration 530, loss = 0.04232445\n",
      "Iteration 531, loss = 0.04232807\n",
      "Iteration 532, loss = 0.04203963\n",
      "Iteration 533, loss = 0.04199228\n",
      "Iteration 534, loss = 0.04185344\n",
      "Iteration 535, loss = 0.04186262\n",
      "Iteration 536, loss = 0.04172614\n",
      "Iteration 537, loss = 0.04160469\n",
      "Iteration 538, loss = 0.04156479\n",
      "Iteration 539, loss = 0.04145985\n",
      "Iteration 540, loss = 0.04134682\n",
      "Iteration 541, loss = 0.04123984\n",
      "Iteration 542, loss = 0.04114910\n",
      "Iteration 543, loss = 0.04118145\n",
      "Iteration 544, loss = 0.04094512\n",
      "Iteration 545, loss = 0.04089151\n",
      "Iteration 546, loss = 0.04076291\n",
      "Iteration 547, loss = 0.04064394\n",
      "Iteration 548, loss = 0.04056249\n",
      "Iteration 549, loss = 0.04046975\n",
      "Iteration 550, loss = 0.04043420\n",
      "Iteration 551, loss = 0.04032479\n",
      "Iteration 552, loss = 0.04032539\n",
      "Iteration 553, loss = 0.04011035\n",
      "Iteration 554, loss = 0.04013260\n",
      "Iteration 555, loss = 0.03995560\n",
      "Iteration 556, loss = 0.03991754\n",
      "Iteration 557, loss = 0.03977388\n",
      "Iteration 558, loss = 0.03967943\n",
      "Iteration 559, loss = 0.03969218\n",
      "Iteration 560, loss = 0.03950102\n",
      "Iteration 561, loss = 0.03944276\n",
      "Iteration 562, loss = 0.03943498\n",
      "Iteration 563, loss = 0.03925699\n",
      "Iteration 564, loss = 0.03912451\n",
      "Iteration 565, loss = 0.03908327\n",
      "Iteration 566, loss = 0.03906945\n",
      "Iteration 567, loss = 0.03897358\n",
      "Iteration 568, loss = 0.03881416\n",
      "Iteration 569, loss = 0.03878147\n",
      "Iteration 570, loss = 0.03864382\n",
      "Iteration 571, loss = 0.03905825\n",
      "Iteration 572, loss = 0.03870011\n",
      "Iteration 573, loss = 0.03859653\n",
      "Iteration 574, loss = 0.03883013\n",
      "Iteration 575, loss = 0.03826037\n",
      "Iteration 576, loss = 0.03815542\n",
      "Iteration 577, loss = 0.03812282\n",
      "Iteration 578, loss = 0.03804185\n",
      "Iteration 579, loss = 0.03803024\n",
      "Iteration 580, loss = 0.03781529\n",
      "Iteration 581, loss = 0.03774184\n",
      "Iteration 582, loss = 0.03772788\n",
      "Iteration 583, loss = 0.03759617\n",
      "Iteration 584, loss = 0.03759125\n",
      "Iteration 585, loss = 0.03750742\n",
      "Iteration 586, loss = 0.03749271\n",
      "Iteration 587, loss = 0.03726598\n",
      "Iteration 588, loss = 0.03717307\n",
      "Iteration 589, loss = 0.03715632\n",
      "Iteration 590, loss = 0.03707558\n",
      "Iteration 591, loss = 0.03696240\n",
      "Iteration 592, loss = 0.03687676\n",
      "Iteration 593, loss = 0.03686763\n",
      "Iteration 594, loss = 0.03679684\n",
      "Iteration 595, loss = 0.03666361\n",
      "Iteration 596, loss = 0.03660864\n",
      "Iteration 597, loss = 0.03649659\n",
      "Iteration 598, loss = 0.03646402\n",
      "Iteration 599, loss = 0.03638135\n",
      "Iteration 600, loss = 0.03650675\n",
      "Iteration 601, loss = 0.03617085\n",
      "Iteration 602, loss = 0.03621281\n",
      "Iteration 603, loss = 0.03602613\n",
      "Iteration 604, loss = 0.03597873\n",
      "Iteration 605, loss = 0.03591610\n",
      "Iteration 606, loss = 0.03586579\n",
      "Iteration 607, loss = 0.03573223\n",
      "Iteration 608, loss = 0.03565919\n",
      "Iteration 609, loss = 0.03564061\n",
      "Iteration 610, loss = 0.03556996\n",
      "Iteration 611, loss = 0.03555964\n",
      "Iteration 612, loss = 0.03539265\n",
      "Iteration 613, loss = 0.03530183\n",
      "Iteration 614, loss = 0.03525349\n",
      "Iteration 615, loss = 0.03534453\n",
      "Iteration 616, loss = 0.03509233\n",
      "Iteration 617, loss = 0.03502762\n",
      "Iteration 618, loss = 0.03504182\n",
      "Iteration 619, loss = 0.03488366\n",
      "Iteration 620, loss = 0.03481970\n",
      "Iteration 621, loss = 0.03480177\n",
      "Iteration 622, loss = 0.03470013\n",
      "Iteration 623, loss = 0.03458388\n",
      "Iteration 624, loss = 0.03455733\n",
      "Iteration 625, loss = 0.03445597\n",
      "Iteration 626, loss = 0.03440191\n",
      "Iteration 627, loss = 0.03433874\n",
      "Iteration 628, loss = 0.03422332\n",
      "Iteration 629, loss = 0.03415447\n",
      "Iteration 630, loss = 0.03410218\n",
      "Iteration 631, loss = 0.03407342\n",
      "Iteration 632, loss = 0.03397675\n",
      "Iteration 633, loss = 0.03390954\n",
      "Iteration 634, loss = 0.03390535\n",
      "Iteration 635, loss = 0.03387561\n",
      "Iteration 636, loss = 0.03371537\n",
      "Iteration 637, loss = 0.03376343\n",
      "Iteration 638, loss = 0.03359143\n",
      "Iteration 639, loss = 0.03363466\n",
      "Iteration 640, loss = 0.03351902\n",
      "Iteration 641, loss = 0.03344496\n",
      "Iteration 642, loss = 0.03342295\n",
      "Iteration 643, loss = 0.03332704\n",
      "Iteration 644, loss = 0.03314261\n",
      "Iteration 645, loss = 0.03314417\n",
      "Iteration 646, loss = 0.03310251\n",
      "Iteration 647, loss = 0.03300598\n",
      "Iteration 648, loss = 0.03293082\n",
      "Iteration 649, loss = 0.03286372\n",
      "Iteration 650, loss = 0.03283139\n",
      "Iteration 651, loss = 0.03276217\n",
      "Iteration 652, loss = 0.03268927\n",
      "Iteration 653, loss = 0.03258893\n",
      "Iteration 654, loss = 0.03252372\n",
      "Iteration 655, loss = 0.03256412\n",
      "Iteration 656, loss = 0.03247078\n",
      "Iteration 657, loss = 0.03238162\n",
      "Iteration 658, loss = 0.03234231\n",
      "Iteration 659, loss = 0.03221566\n",
      "Iteration 660, loss = 0.03228784\n",
      "Iteration 661, loss = 0.03208709\n",
      "Iteration 662, loss = 0.03207404\n",
      "Iteration 663, loss = 0.03208522\n",
      "Iteration 664, loss = 0.03221278\n",
      "Iteration 665, loss = 0.03198145\n",
      "Iteration 666, loss = 0.03192509\n",
      "Iteration 667, loss = 0.03181731\n",
      "Iteration 668, loss = 0.03167226\n",
      "Iteration 669, loss = 0.03167753\n",
      "Iteration 670, loss = 0.03161721\n",
      "Iteration 671, loss = 0.03153231\n",
      "Iteration 672, loss = 0.03142263\n",
      "Iteration 673, loss = 0.03138512\n",
      "Iteration 674, loss = 0.03131571\n",
      "Iteration 675, loss = 0.03127211\n",
      "Iteration 676, loss = 0.03124275\n",
      "Iteration 677, loss = 0.03124116\n",
      "Iteration 678, loss = 0.03108098\n",
      "Iteration 679, loss = 0.03107667\n",
      "Iteration 680, loss = 0.03105400\n",
      "Iteration 681, loss = 0.03090415\n",
      "Iteration 682, loss = 0.03085182\n",
      "Iteration 683, loss = 0.03084402\n",
      "Iteration 684, loss = 0.03074641\n",
      "Iteration 685, loss = 0.03069938\n",
      "Iteration 686, loss = 0.03077043\n",
      "Iteration 687, loss = 0.03058940\n",
      "Iteration 688, loss = 0.03059188\n",
      "Iteration 689, loss = 0.03051608\n",
      "Iteration 690, loss = 0.03050851\n",
      "Iteration 691, loss = 0.03036328\n",
      "Iteration 692, loss = 0.03031203\n",
      "Iteration 693, loss = 0.03025266\n",
      "Iteration 694, loss = 0.03020211\n",
      "Iteration 695, loss = 0.03019696\n",
      "Iteration 696, loss = 0.03009519\n",
      "Iteration 697, loss = 0.03003515\n",
      "Iteration 698, loss = 0.02995726\n",
      "Iteration 699, loss = 0.02992972\n",
      "Iteration 700, loss = 0.02993923\n",
      "Iteration 701, loss = 0.02981821\n",
      "Iteration 702, loss = 0.02979884\n",
      "Iteration 703, loss = 0.02967557\n",
      "Iteration 704, loss = 0.02965535\n",
      "Iteration 705, loss = 0.02964350\n",
      "Iteration 706, loss = 0.02974392\n",
      "Iteration 707, loss = 0.02948184\n",
      "Iteration 708, loss = 0.02943575\n",
      "Iteration 709, loss = 0.02940685\n",
      "Iteration 710, loss = 0.02933457\n",
      "Iteration 711, loss = 0.02927425\n",
      "Iteration 712, loss = 0.02920321\n",
      "Iteration 713, loss = 0.02916462\n",
      "Iteration 714, loss = 0.02924111\n",
      "Iteration 715, loss = 0.02904162\n",
      "Iteration 716, loss = 0.02902702\n",
      "Iteration 717, loss = 0.02906206\n",
      "Iteration 718, loss = 0.02897439\n",
      "Iteration 719, loss = 0.02887659\n",
      "Iteration 720, loss = 0.02879514\n",
      "Iteration 721, loss = 0.02874321\n",
      "Iteration 722, loss = 0.02873158\n",
      "Iteration 723, loss = 0.02866572\n",
      "Iteration 724, loss = 0.02868873\n",
      "Iteration 725, loss = 0.02854012\n",
      "Iteration 726, loss = 0.02855147\n",
      "Iteration 727, loss = 0.02845067\n",
      "Iteration 728, loss = 0.02844300\n",
      "Iteration 729, loss = 0.02837723\n",
      "Iteration 730, loss = 0.02830330\n",
      "Iteration 731, loss = 0.02824600\n",
      "Iteration 732, loss = 0.02820974\n",
      "Iteration 733, loss = 0.02814088\n",
      "Iteration 734, loss = 0.02810860\n",
      "Iteration 735, loss = 0.02812251\n",
      "Iteration 736, loss = 0.02799179\n",
      "Iteration 737, loss = 0.02798153\n",
      "Iteration 738, loss = 0.02795396\n",
      "Iteration 739, loss = 0.02785488\n",
      "Iteration 740, loss = 0.02783140\n",
      "Iteration 741, loss = 0.02780687\n",
      "Iteration 742, loss = 0.02772471\n",
      "Iteration 743, loss = 0.02769788\n",
      "Iteration 744, loss = 0.02768501\n",
      "Iteration 745, loss = 0.02767062\n",
      "Iteration 746, loss = 0.02760795\n",
      "Iteration 747, loss = 0.02751545\n",
      "Iteration 748, loss = 0.02745145\n",
      "Iteration 749, loss = 0.02743925\n",
      "Iteration 750, loss = 0.02735995\n",
      "Iteration 751, loss = 0.02734242\n",
      "Iteration 752, loss = 0.02722822\n",
      "Iteration 753, loss = 0.02722936\n",
      "Iteration 754, loss = 0.02720442\n",
      "Iteration 755, loss = 0.02716225\n",
      "Iteration 756, loss = 0.02709272\n",
      "Iteration 757, loss = 0.02704718\n",
      "Iteration 758, loss = 0.02697430\n",
      "Iteration 759, loss = 0.02693622\n",
      "Iteration 760, loss = 0.02688794\n",
      "Iteration 761, loss = 0.02686223\n",
      "Iteration 762, loss = 0.02678982\n",
      "Iteration 763, loss = 0.02683267\n",
      "Iteration 764, loss = 0.02668709\n",
      "Iteration 765, loss = 0.02677207\n",
      "Iteration 766, loss = 0.02658467\n",
      "Iteration 767, loss = 0.02658205\n",
      "Iteration 768, loss = 0.02654846\n",
      "Iteration 769, loss = 0.02646979\n",
      "Iteration 770, loss = 0.02641958\n",
      "Iteration 771, loss = 0.02643487\n",
      "Iteration 772, loss = 0.02635408\n",
      "Iteration 773, loss = 0.02633086\n",
      "Iteration 774, loss = 0.02625200\n",
      "Iteration 775, loss = 0.02619880\n",
      "Iteration 776, loss = 0.02620598\n",
      "Iteration 777, loss = 0.02611788\n",
      "Iteration 778, loss = 0.02611797\n",
      "Iteration 779, loss = 0.02606790\n",
      "Iteration 780, loss = 0.02601697\n",
      "Iteration 781, loss = 0.02598572\n",
      "Iteration 782, loss = 0.02592441\n",
      "Iteration 783, loss = 0.02587761\n",
      "Iteration 784, loss = 0.02587393\n",
      "Iteration 785, loss = 0.02587079\n",
      "Iteration 786, loss = 0.02578645\n",
      "Iteration 787, loss = 0.02574887\n",
      "Iteration 788, loss = 0.02564286\n",
      "Iteration 789, loss = 0.02560827\n",
      "Iteration 790, loss = 0.02557812\n",
      "Iteration 791, loss = 0.02552406\n",
      "Iteration 792, loss = 0.02559342\n",
      "Iteration 793, loss = 0.02542129\n",
      "Iteration 794, loss = 0.02546949\n",
      "Iteration 795, loss = 0.02536585\n",
      "Iteration 796, loss = 0.02531449\n",
      "Iteration 797, loss = 0.02533291\n",
      "Iteration 798, loss = 0.02524282\n",
      "Iteration 799, loss = 0.02520995\n",
      "Iteration 800, loss = 0.02520838\n",
      "Iteration 801, loss = 0.02516335\n",
      "Iteration 802, loss = 0.02507493\n",
      "Iteration 803, loss = 0.02506302\n",
      "Iteration 804, loss = 0.02505186\n",
      "Iteration 805, loss = 0.02499868\n",
      "Iteration 806, loss = 0.02499564\n",
      "Iteration 807, loss = 0.02486742\n",
      "Iteration 808, loss = 0.02488858\n",
      "Iteration 809, loss = 0.02483933\n",
      "Iteration 810, loss = 0.02481955\n",
      "Iteration 811, loss = 0.02474751\n",
      "Iteration 812, loss = 0.02493310\n",
      "Iteration 813, loss = 0.02493946\n",
      "Iteration 814, loss = 0.02460416\n",
      "Iteration 815, loss = 0.02463611\n",
      "Iteration 816, loss = 0.02452440\n",
      "Iteration 817, loss = 0.02450502\n",
      "Iteration 818, loss = 0.02445009\n",
      "Iteration 819, loss = 0.02442410\n",
      "Iteration 820, loss = 0.02438751\n",
      "Iteration 821, loss = 0.02439624\n",
      "Iteration 822, loss = 0.02429154\n",
      "Iteration 823, loss = 0.02426666\n",
      "Iteration 824, loss = 0.02422592\n",
      "Iteration 825, loss = 0.02420259\n",
      "Iteration 826, loss = 0.02417740\n",
      "Iteration 827, loss = 0.02421690\n",
      "Iteration 828, loss = 0.02412198\n",
      "Iteration 829, loss = 0.02406526\n",
      "Iteration 830, loss = 0.02400566\n",
      "Iteration 831, loss = 0.02400336\n",
      "Iteration 832, loss = 0.02393294\n",
      "Iteration 833, loss = 0.02389244\n",
      "Iteration 834, loss = 0.02385238\n",
      "Iteration 835, loss = 0.02381970\n",
      "Iteration 836, loss = 0.02377168\n",
      "Iteration 837, loss = 0.02375143\n",
      "Iteration 838, loss = 0.02369998\n",
      "Iteration 839, loss = 0.02366253\n",
      "Iteration 840, loss = 0.02365202\n",
      "Iteration 841, loss = 0.02360284\n",
      "Iteration 842, loss = 0.02356233\n",
      "Iteration 843, loss = 0.02354646\n",
      "Iteration 844, loss = 0.02352824\n",
      "Iteration 845, loss = 0.02350143\n",
      "Iteration 846, loss = 0.02339885\n",
      "Iteration 847, loss = 0.02344581\n",
      "Iteration 848, loss = 0.02335980\n",
      "Iteration 849, loss = 0.02340701\n",
      "Iteration 850, loss = 0.02331094\n",
      "Iteration 851, loss = 0.02325784\n",
      "Iteration 852, loss = 0.02326551\n",
      "Iteration 853, loss = 0.02315892\n",
      "Iteration 854, loss = 0.02314228\n",
      "Iteration 855, loss = 0.02315490\n",
      "Iteration 856, loss = 0.02313972\n",
      "Iteration 857, loss = 0.02303855\n",
      "Iteration 858, loss = 0.02298326\n",
      "Iteration 859, loss = 0.02296939\n",
      "Iteration 860, loss = 0.02296687\n",
      "Iteration 861, loss = 0.02287836\n",
      "Iteration 862, loss = 0.02287004\n",
      "Iteration 863, loss = 0.02284014\n",
      "Iteration 864, loss = 0.02279965\n",
      "Iteration 865, loss = 0.02273972\n",
      "Iteration 866, loss = 0.02273182\n",
      "Iteration 867, loss = 0.02270140\n",
      "Iteration 868, loss = 0.02266859\n",
      "Iteration 869, loss = 0.02265172\n",
      "Iteration 870, loss = 0.02256750\n",
      "Iteration 871, loss = 0.02260270\n",
      "Iteration 872, loss = 0.02250748\n",
      "Iteration 873, loss = 0.02249931\n",
      "Iteration 874, loss = 0.02247865\n",
      "Iteration 875, loss = 0.02244232\n",
      "Iteration 876, loss = 0.02237988\n",
      "Iteration 877, loss = 0.02235253\n",
      "Iteration 878, loss = 0.02238664\n",
      "Iteration 879, loss = 0.02228459\n",
      "Iteration 880, loss = 0.02241983\n",
      "Iteration 881, loss = 0.02225530\n",
      "Iteration 882, loss = 0.02225489\n",
      "Iteration 883, loss = 0.02224158\n",
      "Iteration 884, loss = 0.02213632\n",
      "Iteration 885, loss = 0.02207049\n",
      "Iteration 886, loss = 0.02208893\n",
      "Iteration 887, loss = 0.02203116\n",
      "Iteration 888, loss = 0.02200378\n",
      "Iteration 889, loss = 0.02194294\n",
      "Iteration 890, loss = 0.02195150\n",
      "Iteration 891, loss = 0.02191741\n",
      "Iteration 892, loss = 0.02199765\n",
      "Iteration 893, loss = 0.02187691\n",
      "Iteration 894, loss = 0.02182645\n",
      "Iteration 895, loss = 0.02178008\n",
      "Iteration 896, loss = 0.02173403\n",
      "Iteration 897, loss = 0.02169139\n",
      "Iteration 898, loss = 0.02170356\n",
      "Iteration 899, loss = 0.02169520\n",
      "Iteration 900, loss = 0.02161615\n",
      "Iteration 901, loss = 0.02156823\n",
      "Iteration 902, loss = 0.02157575\n",
      "Iteration 903, loss = 0.02154894\n",
      "Iteration 904, loss = 0.02151545\n",
      "Iteration 905, loss = 0.02146382\n",
      "Iteration 906, loss = 0.02144738\n",
      "Iteration 907, loss = 0.02138594\n",
      "Iteration 908, loss = 0.02138578\n",
      "Iteration 909, loss = 0.02133834\n",
      "Iteration 910, loss = 0.02132370\n",
      "Iteration 911, loss = 0.02128383\n",
      "Iteration 912, loss = 0.02129484\n",
      "Iteration 913, loss = 0.02119687\n",
      "Iteration 914, loss = 0.02118494\n",
      "Iteration 915, loss = 0.02119632\n",
      "Iteration 916, loss = 0.02113286\n",
      "Iteration 917, loss = 0.02106976\n",
      "Iteration 918, loss = 0.02103986\n",
      "Iteration 919, loss = 0.02104061\n",
      "Iteration 920, loss = 0.02102047\n",
      "Iteration 921, loss = 0.02096151\n",
      "Iteration 922, loss = 0.02098761\n",
      "Iteration 923, loss = 0.02090071\n",
      "Iteration 924, loss = 0.02088429\n",
      "Iteration 925, loss = 0.02085619\n",
      "Iteration 926, loss = 0.02083225\n",
      "Iteration 927, loss = 0.02082728\n",
      "Iteration 928, loss = 0.02075500\n",
      "Iteration 929, loss = 0.02077255\n",
      "Iteration 930, loss = 0.02071731\n",
      "Iteration 931, loss = 0.02073250\n",
      "Iteration 932, loss = 0.02065125\n",
      "Iteration 933, loss = 0.02062506\n",
      "Iteration 934, loss = 0.02060088\n",
      "Iteration 935, loss = 0.02057612\n",
      "Iteration 936, loss = 0.02052127\n",
      "Iteration 937, loss = 0.02050694\n",
      "Iteration 938, loss = 0.02055273\n",
      "Iteration 939, loss = 0.02044056\n",
      "Iteration 940, loss = 0.02042762\n",
      "Iteration 941, loss = 0.02043400\n",
      "Iteration 942, loss = 0.02036222\n",
      "Iteration 943, loss = 0.02036223\n",
      "Iteration 944, loss = 0.02035040\n",
      "Iteration 945, loss = 0.02027477\n",
      "Iteration 946, loss = 0.02023490\n",
      "Iteration 947, loss = 0.02024997\n",
      "Iteration 948, loss = 0.02019794\n",
      "Iteration 949, loss = 0.02017057\n",
      "Iteration 950, loss = 0.02014287\n",
      "Iteration 951, loss = 0.02012631\n",
      "Iteration 952, loss = 0.02007956\n",
      "Iteration 953, loss = 0.02005082\n",
      "Iteration 954, loss = 0.02004794\n",
      "Iteration 955, loss = 0.02002003\n",
      "Iteration 956, loss = 0.01996642\n",
      "Iteration 957, loss = 0.01995288\n",
      "Iteration 958, loss = 0.01993270\n",
      "Iteration 959, loss = 0.01989486\n",
      "Iteration 960, loss = 0.01985495\n",
      "Iteration 961, loss = 0.01989520\n",
      "Iteration 962, loss = 0.01982259\n",
      "Iteration 963, loss = 0.01985768\n",
      "Iteration 964, loss = 0.01978140\n",
      "Iteration 965, loss = 0.01973572\n",
      "Iteration 966, loss = 0.01979931\n",
      "Iteration 967, loss = 0.01972768\n",
      "Iteration 968, loss = 0.01969096\n",
      "Iteration 969, loss = 0.01964294\n",
      "Iteration 970, loss = 0.01960790\n",
      "Iteration 971, loss = 0.01958097\n",
      "Iteration 972, loss = 0.01954549\n",
      "Iteration 973, loss = 0.01955272\n",
      "Iteration 974, loss = 0.01950989\n",
      "Iteration 975, loss = 0.01952521\n",
      "Iteration 976, loss = 0.01947676\n",
      "Iteration 977, loss = 0.01942217\n",
      "Iteration 978, loss = 0.01939648\n",
      "Iteration 979, loss = 0.01939927\n",
      "Iteration 980, loss = 0.01936456\n",
      "Iteration 981, loss = 0.01933131\n",
      "Iteration 982, loss = 0.01928258\n",
      "Iteration 983, loss = 0.01925335\n",
      "Iteration 984, loss = 0.01922990\n",
      "Iteration 985, loss = 0.01922552\n",
      "Iteration 986, loss = 0.01921145\n",
      "Iteration 987, loss = 0.01916322\n",
      "Iteration 988, loss = 0.01912494\n",
      "Iteration 989, loss = 0.01910480\n",
      "Iteration 990, loss = 0.01910134\n",
      "Iteration 991, loss = 0.01905137\n",
      "Iteration 992, loss = 0.01906996\n",
      "Iteration 993, loss = 0.01900948\n",
      "Iteration 994, loss = 0.01902801\n",
      "Iteration 995, loss = 0.01896455\n",
      "Iteration 996, loss = 0.01893947\n",
      "Iteration 997, loss = 0.01890847\n",
      "Iteration 998, loss = 0.01889261\n",
      "Iteration 999, loss = 0.01886513\n",
      "Iteration 1000, loss = 0.01882912\n"
     ]
    }
   ],
   "source": [
    "nnModelSGD  = mlpSGD.fit(trainData , trainLabelE)"
   ]
  },
  {
   "cell_type": "code",
   "execution_count": 113,
   "metadata": {
    "collapsed": false
   },
   "outputs": [
    {
     "data": {
      "text/plain": [
       "MLPClassifier(activation='relu', alpha=0.0001, batch_size='auto', beta_1=0.9,\n",
       "       beta_2=0.999, early_stopping=False, epsilon=1e-08,\n",
       "       hidden_layer_sizes=(90,), learning_rate='constant',\n",
       "       learning_rate_init=0.001, max_iter=1000, momentum=0.9,\n",
       "       nesterovs_momentum=True, power_t=0.5, random_state=1, shuffle=True,\n",
       "       solver='lbfgs', tol=1e-19, validation_fraction=0.1, verbose=10,\n",
       "       warm_start=False)"
      ]
     },
     "execution_count": 113,
     "metadata": {},
     "output_type": "execute_result"
    }
   ],
   "source": [
    "nnModelSGD  = mlpLBFGS.fit(trainData , trainLabelE)\n",
    "nnModelSGD"
   ]
  },
  {
   "cell_type": "code",
   "execution_count": 112,
   "metadata": {
    "collapsed": false
   },
   "outputs": [
    {
     "name": "stdout",
     "output_type": "stream",
     "text": [
      "Iteration 1, loss = 1.74991798\n",
      "Iteration 2, loss = 1.16567819\n",
      "Iteration 3, loss = 0.88032551\n",
      "Iteration 4, loss = 0.71542844\n",
      "Iteration 5, loss = 0.59161887\n",
      "Iteration 6, loss = 0.50173944\n",
      "Iteration 7, loss = 0.43155021\n",
      "Iteration 8, loss = 0.38114444\n",
      "Iteration 9, loss = 0.34009168\n",
      "Iteration 10, loss = 0.30223178\n",
      "Iteration 11, loss = 0.26814619\n",
      "Iteration 12, loss = 0.24102629\n",
      "Iteration 13, loss = 0.22709798\n",
      "Iteration 14, loss = 0.20501112\n",
      "Iteration 15, loss = 0.18739302\n",
      "Iteration 16, loss = 0.17252099\n",
      "Iteration 17, loss = 0.16052092\n",
      "Iteration 18, loss = 0.14979405\n",
      "Iteration 19, loss = 0.14016073\n",
      "Iteration 20, loss = 0.13124967\n",
      "Iteration 21, loss = 0.12427434\n",
      "Iteration 22, loss = 0.11767418\n",
      "Iteration 23, loss = 0.10979777\n",
      "Iteration 24, loss = 0.11288952\n",
      "Iteration 25, loss = 0.10100872\n",
      "Iteration 26, loss = 0.09403371\n",
      "Iteration 27, loss = 0.08887260\n",
      "Iteration 28, loss = 0.08449667\n",
      "Iteration 29, loss = 0.07982003\n",
      "Iteration 30, loss = 0.07706933\n",
      "Iteration 31, loss = 0.07878002\n",
      "Iteration 32, loss = 0.08078987\n",
      "Iteration 33, loss = 0.07506933\n",
      "Iteration 34, loss = 0.07012087\n",
      "Iteration 35, loss = 0.06925253\n",
      "Iteration 36, loss = 0.05940394\n",
      "Iteration 37, loss = 0.05683530\n",
      "Iteration 38, loss = 0.05482057\n",
      "Iteration 39, loss = 0.05242265\n",
      "Iteration 40, loss = 0.05128261\n",
      "Iteration 41, loss = 0.05124324\n",
      "Iteration 42, loss = 0.05138037\n",
      "Iteration 43, loss = 0.04551684\n",
      "Iteration 44, loss = 0.04399102\n",
      "Iteration 45, loss = 0.04404937\n",
      "Iteration 46, loss = 0.04050253\n",
      "Iteration 47, loss = 0.03929942\n",
      "Iteration 48, loss = 0.03836883\n",
      "Iteration 49, loss = 0.03781516\n",
      "Iteration 50, loss = 0.03648040\n",
      "Iteration 51, loss = 0.03441751\n",
      "Iteration 52, loss = 0.03461140\n",
      "Iteration 53, loss = 0.03381482\n",
      "Iteration 54, loss = 0.03163517\n",
      "Iteration 55, loss = 0.03104698\n",
      "Iteration 56, loss = 0.03065045\n",
      "Iteration 57, loss = 0.02882915\n",
      "Iteration 58, loss = 0.02804799\n",
      "Iteration 59, loss = 0.02872686\n",
      "Iteration 60, loss = 0.02651861\n",
      "Iteration 61, loss = 0.02678514\n",
      "Iteration 62, loss = 0.02531993\n",
      "Iteration 63, loss = 0.02487322\n",
      "Iteration 64, loss = 0.02416539\n",
      "Iteration 65, loss = 0.02310102\n",
      "Iteration 66, loss = 0.02296282\n",
      "Iteration 67, loss = 0.02260773\n",
      "Iteration 68, loss = 0.02196091\n",
      "Iteration 69, loss = 0.02182364\n",
      "Iteration 70, loss = 0.02096648\n",
      "Iteration 71, loss = 0.02051838\n",
      "Iteration 72, loss = 0.01998646\n",
      "Iteration 73, loss = 0.01931259\n",
      "Iteration 74, loss = 0.01859084\n",
      "Iteration 75, loss = 0.01806182\n",
      "Iteration 76, loss = 0.01771228\n",
      "Iteration 77, loss = 0.01736315\n",
      "Iteration 78, loss = 0.01676609\n",
      "Iteration 79, loss = 0.01696554\n",
      "Iteration 80, loss = 0.01661801\n",
      "Iteration 81, loss = 0.01613591\n",
      "Iteration 82, loss = 0.01585817\n",
      "Iteration 83, loss = 0.01523044\n",
      "Iteration 84, loss = 0.01504372\n",
      "Iteration 85, loss = 0.01447183\n",
      "Iteration 86, loss = 0.01409707\n",
      "Iteration 87, loss = 0.01407215\n",
      "Iteration 88, loss = 0.01382424\n",
      "Iteration 89, loss = 0.01332115\n",
      "Iteration 90, loss = 0.01378099\n",
      "Iteration 91, loss = 0.01295498\n",
      "Iteration 92, loss = 0.01312827\n",
      "Iteration 93, loss = 0.01292724\n",
      "Iteration 94, loss = 0.01238579\n",
      "Iteration 95, loss = 0.01198310\n",
      "Iteration 96, loss = 0.01172619\n",
      "Iteration 97, loss = 0.01132857\n",
      "Iteration 98, loss = 0.01110061\n",
      "Iteration 99, loss = 0.01108793\n",
      "Iteration 100, loss = 0.01080794\n",
      "Iteration 101, loss = 0.01047404\n",
      "Iteration 102, loss = 0.01038848\n",
      "Iteration 103, loss = 0.01069700\n",
      "Iteration 104, loss = 0.01039075\n",
      "Iteration 105, loss = 0.00999454\n",
      "Iteration 106, loss = 0.00983626\n",
      "Iteration 107, loss = 0.00970931\n",
      "Iteration 108, loss = 0.00926542\n",
      "Iteration 109, loss = 0.00902355\n",
      "Iteration 110, loss = 0.00900649\n",
      "Iteration 111, loss = 0.00883611\n",
      "Iteration 112, loss = 0.00863712\n",
      "Iteration 113, loss = 0.00860096\n",
      "Iteration 114, loss = 0.00850350\n",
      "Iteration 115, loss = 0.00850233\n",
      "Iteration 116, loss = 0.00832260\n",
      "Iteration 117, loss = 0.00824669\n",
      "Iteration 118, loss = 0.00827086\n",
      "Iteration 119, loss = 0.00777369\n",
      "Iteration 120, loss = 0.00798385\n",
      "Iteration 121, loss = 0.00773059\n",
      "Iteration 122, loss = 0.00736362\n",
      "Iteration 123, loss = 0.00732962\n",
      "Iteration 124, loss = 0.00716407\n",
      "Iteration 125, loss = 0.00710967\n",
      "Iteration 126, loss = 0.00696131\n",
      "Iteration 127, loss = 0.00705165\n",
      "Iteration 128, loss = 0.00671967\n",
      "Iteration 129, loss = 0.00660228\n",
      "Iteration 130, loss = 0.00645809\n",
      "Iteration 131, loss = 0.00643905\n",
      "Iteration 132, loss = 0.00627404\n",
      "Iteration 133, loss = 0.00643097\n",
      "Iteration 134, loss = 0.00632505\n",
      "Iteration 135, loss = 0.00623612\n",
      "Iteration 136, loss = 0.00635120\n",
      "Iteration 137, loss = 0.00625385\n",
      "Iteration 138, loss = 0.00594556\n",
      "Iteration 139, loss = 0.00593237\n",
      "Iteration 140, loss = 0.00579838\n",
      "Iteration 141, loss = 0.00568711\n",
      "Iteration 142, loss = 0.00549293\n",
      "Iteration 143, loss = 0.00538385\n",
      "Iteration 144, loss = 0.00539199\n",
      "Iteration 145, loss = 0.00549016\n",
      "Iteration 146, loss = 0.00549507\n",
      "Training loss did not improve more than tol=0.000000 for two consecutive epochs. Stopping.\n"
     ]
    }
   ],
   "source": [
    "nnModelADAM = mlpADAM.fit(trainData , trainLabelE)"
   ]
  },
  {
   "cell_type": "code",
   "execution_count": 114,
   "metadata": {
    "collapsed": true
   },
   "outputs": [],
   "source": [
    "import pandas as pd\n",
    "import numpy as np\n",
    "from matplotlib import pyplot as plt\n",
    "import seaborn as sb\n",
    "%matplotlib inline"
   ]
  },
  {
   "cell_type": "code",
   "execution_count": 204,
   "metadata": {
    "collapsed": false
   },
   "outputs": [
    {
     "name": "stdout",
     "output_type": "stream",
     "text": [
      "('Train Data', (999, 563), '\\n', Index([u'tBodyAcc-mean()-X', u'tBodyAcc-mean()-Y', u'tBodyAcc-mean()-Z',\n",
      "       u'tBodyAcc-std()-X', u'tBodyAcc-std()-Y', u'tBodyAcc-std()-Z',\n",
      "       u'tBodyAcc-mad()-X', u'tBodyAcc-mad()-Y', u'tBodyAcc-mad()-Z',\n",
      "       u'tBodyAcc-max()-X',\n",
      "       ...\n",
      "       u'fBodyBodyGyroJerkMag-kurtosis()', u'angle(tBodyAccMean,gravity)',\n",
      "       u'angle(tBodyAccJerkMean),gravityMean)',\n",
      "       u'angle(tBodyGyroMean,gravityMean)',\n",
      "       u'angle(tBodyGyroJerkMean,gravityMean)', u'angle(X,gravityMean)',\n",
      "       u'angle(Y,gravityMean)', u'angle(Z,gravityMean)', u'subject',\n",
      "       u'Activity'],\n",
      "      dtype='object', length=563))\n",
      "('\\nTest Data', (999, 563))\n"
     ]
    }
   ],
   "source": [
    "# load data\n",
    "#https://s3.amazonaws.com/hackerday.datascience/112/test.csv\n",
    "#https://s3.amazonaws.com/hackerday.datascience/112/train.csv\n",
    "\n",
    "train = pd.read_csv(\"https://s3.amazonaws.com/hackerday.datascience/112/train.csv\")\n",
    "test = pd.read_csv(\"https://s3.amazonaws.com/hackerday.datascience/112/test.csv\")\n",
    "print('Train Data', train.shape,'\\n', train.columns)\n",
    "print('\\nTest Data', test.shape)"
   ]
  },
  {
   "cell_type": "code",
   "execution_count": 116,
   "metadata": {
    "collapsed": false
   },
   "outputs": [
    {
     "name": "stdout",
     "output_type": "stream",
     "text": [
      "('Train labels', array(['STANDING', 'SITTING', 'LAYING', 'WALKING', 'WALKING_DOWNSTAIRS',\n",
      "       'WALKING_UPSTAIRS'], dtype=object), '\\nTest Labels', array(['STANDING', 'SITTING', 'LAYING', 'WALKING', 'WALKING_DOWNSTAIRS',\n",
      "       'WALKING_UPSTAIRS'], dtype=object))\n"
     ]
    }
   ],
   "source": [
    "print('Train labels', train['Activity'].unique(), '\\nTest Labels', test['Activity'].unique())"
   ]
  },
  {
   "cell_type": "code",
   "execution_count": 117,
   "metadata": {
    "collapsed": false
   },
   "outputs": [
    {
     "data": {
      "text/html": [
       "<div>\n",
       "<table border=\"1\" class=\"dataframe\">\n",
       "  <thead>\n",
       "    <tr style=\"text-align: right;\">\n",
       "      <th>Activity</th>\n",
       "      <th>LAYING</th>\n",
       "      <th>SITTING</th>\n",
       "      <th>STANDING</th>\n",
       "      <th>WALKING</th>\n",
       "      <th>WALKING_DOWNSTAIRS</th>\n",
       "      <th>WALKING_UPSTAIRS</th>\n",
       "    </tr>\n",
       "    <tr>\n",
       "      <th>subject</th>\n",
       "      <th></th>\n",
       "      <th></th>\n",
       "      <th></th>\n",
       "      <th></th>\n",
       "      <th></th>\n",
       "      <th></th>\n",
       "    </tr>\n",
       "  </thead>\n",
       "  <tbody>\n",
       "    <tr>\n",
       "      <th>1</th>\n",
       "      <td>50</td>\n",
       "      <td>47</td>\n",
       "      <td>53</td>\n",
       "      <td>95</td>\n",
       "      <td>49</td>\n",
       "      <td>53</td>\n",
       "    </tr>\n",
       "    <tr>\n",
       "      <th>3</th>\n",
       "      <td>62</td>\n",
       "      <td>52</td>\n",
       "      <td>61</td>\n",
       "      <td>58</td>\n",
       "      <td>49</td>\n",
       "      <td>59</td>\n",
       "    </tr>\n",
       "    <tr>\n",
       "      <th>5</th>\n",
       "      <td>52</td>\n",
       "      <td>44</td>\n",
       "      <td>56</td>\n",
       "      <td>56</td>\n",
       "      <td>47</td>\n",
       "      <td>47</td>\n",
       "    </tr>\n",
       "    <tr>\n",
       "      <th>6</th>\n",
       "      <td>0</td>\n",
       "      <td>0</td>\n",
       "      <td>9</td>\n",
       "      <td>0</td>\n",
       "      <td>0</td>\n",
       "      <td>0</td>\n",
       "    </tr>\n",
       "  </tbody>\n",
       "</table>\n",
       "</div>"
      ],
      "text/plain": [
       "Activity  LAYING  SITTING  STANDING  WALKING  WALKING_DOWNSTAIRS  \\\n",
       "subject                                                            \n",
       "1             50       47        53       95                  49   \n",
       "3             62       52        61       58                  49   \n",
       "5             52       44        56       56                  47   \n",
       "6              0        0         9        0                   0   \n",
       "\n",
       "Activity  WALKING_UPSTAIRS  \n",
       "subject                     \n",
       "1                       53  \n",
       "3                       59  \n",
       "5                       47  \n",
       "6                        0  "
      ]
     },
     "execution_count": 117,
     "metadata": {},
     "output_type": "execute_result"
    }
   ],
   "source": [
    "pd.crosstab(train.subject, train.Activity)"
   ]
  },
  {
   "cell_type": "code",
   "execution_count": 118,
   "metadata": {
    "collapsed": true
   },
   "outputs": [],
   "source": [
    "sub15 = train.loc[train['subject']==1]"
   ]
  },
  {
   "cell_type": "code",
   "execution_count": 119,
   "metadata": {
    "collapsed": false
   },
   "outputs": [
    {
     "data": {
      "text/html": [
       "<div>\n",
       "<table border=\"1\" class=\"dataframe\">\n",
       "  <thead>\n",
       "    <tr style=\"text-align: right;\">\n",
       "      <th></th>\n",
       "      <th>tBodyAcc-mean()-X</th>\n",
       "      <th>tBodyAcc-mean()-Y</th>\n",
       "      <th>tBodyAcc-mean()-Z</th>\n",
       "      <th>tBodyAcc-std()-X</th>\n",
       "      <th>tBodyAcc-std()-Y</th>\n",
       "      <th>tBodyAcc-std()-Z</th>\n",
       "      <th>tBodyAcc-mad()-X</th>\n",
       "      <th>tBodyAcc-mad()-Y</th>\n",
       "      <th>tBodyAcc-mad()-Z</th>\n",
       "      <th>tBodyAcc-max()-X</th>\n",
       "      <th>...</th>\n",
       "      <th>fBodyBodyGyroJerkMag-kurtosis()</th>\n",
       "      <th>angle(tBodyAccMean,gravity)</th>\n",
       "      <th>angle(tBodyAccJerkMean),gravityMean)</th>\n",
       "      <th>angle(tBodyGyroMean,gravityMean)</th>\n",
       "      <th>angle(tBodyGyroJerkMean,gravityMean)</th>\n",
       "      <th>angle(X,gravityMean)</th>\n",
       "      <th>angle(Y,gravityMean)</th>\n",
       "      <th>angle(Z,gravityMean)</th>\n",
       "      <th>subject</th>\n",
       "      <th>Activity</th>\n",
       "    </tr>\n",
       "  </thead>\n",
       "  <tbody>\n",
       "    <tr>\n",
       "      <th>0</th>\n",
       "      <td>0.288585</td>\n",
       "      <td>-0.020294</td>\n",
       "      <td>-0.132905</td>\n",
       "      <td>-0.995279</td>\n",
       "      <td>-0.983111</td>\n",
       "      <td>-0.913526</td>\n",
       "      <td>-0.995112</td>\n",
       "      <td>-0.983185</td>\n",
       "      <td>-0.923527</td>\n",
       "      <td>-0.934724</td>\n",
       "      <td>...</td>\n",
       "      <td>-0.710304</td>\n",
       "      <td>-0.112754</td>\n",
       "      <td>0.030400</td>\n",
       "      <td>-0.464761</td>\n",
       "      <td>-0.018446</td>\n",
       "      <td>-0.841247</td>\n",
       "      <td>0.179941</td>\n",
       "      <td>-0.058627</td>\n",
       "      <td>1</td>\n",
       "      <td>STANDING</td>\n",
       "    </tr>\n",
       "    <tr>\n",
       "      <th>1</th>\n",
       "      <td>0.278419</td>\n",
       "      <td>-0.016411</td>\n",
       "      <td>-0.123520</td>\n",
       "      <td>-0.998245</td>\n",
       "      <td>-0.975300</td>\n",
       "      <td>-0.960322</td>\n",
       "      <td>-0.998807</td>\n",
       "      <td>-0.974914</td>\n",
       "      <td>-0.957686</td>\n",
       "      <td>-0.943068</td>\n",
       "      <td>...</td>\n",
       "      <td>-0.861499</td>\n",
       "      <td>0.053477</td>\n",
       "      <td>-0.007435</td>\n",
       "      <td>-0.732626</td>\n",
       "      <td>0.703511</td>\n",
       "      <td>-0.844788</td>\n",
       "      <td>0.180289</td>\n",
       "      <td>-0.054317</td>\n",
       "      <td>1</td>\n",
       "      <td>STANDING</td>\n",
       "    </tr>\n",
       "    <tr>\n",
       "      <th>2</th>\n",
       "      <td>0.279653</td>\n",
       "      <td>-0.019467</td>\n",
       "      <td>-0.113462</td>\n",
       "      <td>-0.995380</td>\n",
       "      <td>-0.967187</td>\n",
       "      <td>-0.978944</td>\n",
       "      <td>-0.996520</td>\n",
       "      <td>-0.963668</td>\n",
       "      <td>-0.977469</td>\n",
       "      <td>-0.938692</td>\n",
       "      <td>...</td>\n",
       "      <td>-0.760104</td>\n",
       "      <td>-0.118559</td>\n",
       "      <td>0.177899</td>\n",
       "      <td>0.100699</td>\n",
       "      <td>0.808529</td>\n",
       "      <td>-0.848933</td>\n",
       "      <td>0.180637</td>\n",
       "      <td>-0.049118</td>\n",
       "      <td>1</td>\n",
       "      <td>STANDING</td>\n",
       "    </tr>\n",
       "    <tr>\n",
       "      <th>3</th>\n",
       "      <td>0.279174</td>\n",
       "      <td>-0.026201</td>\n",
       "      <td>-0.123283</td>\n",
       "      <td>-0.996091</td>\n",
       "      <td>-0.983403</td>\n",
       "      <td>-0.990675</td>\n",
       "      <td>-0.997099</td>\n",
       "      <td>-0.982750</td>\n",
       "      <td>-0.989302</td>\n",
       "      <td>-0.938692</td>\n",
       "      <td>...</td>\n",
       "      <td>-0.482845</td>\n",
       "      <td>-0.036788</td>\n",
       "      <td>-0.012892</td>\n",
       "      <td>0.640011</td>\n",
       "      <td>-0.485366</td>\n",
       "      <td>-0.848649</td>\n",
       "      <td>0.181935</td>\n",
       "      <td>-0.047663</td>\n",
       "      <td>1</td>\n",
       "      <td>STANDING</td>\n",
       "    </tr>\n",
       "    <tr>\n",
       "      <th>4</th>\n",
       "      <td>0.276629</td>\n",
       "      <td>-0.016570</td>\n",
       "      <td>-0.115362</td>\n",
       "      <td>-0.998139</td>\n",
       "      <td>-0.980817</td>\n",
       "      <td>-0.990482</td>\n",
       "      <td>-0.998321</td>\n",
       "      <td>-0.979672</td>\n",
       "      <td>-0.990441</td>\n",
       "      <td>-0.942469</td>\n",
       "      <td>...</td>\n",
       "      <td>-0.699205</td>\n",
       "      <td>0.123320</td>\n",
       "      <td>0.122542</td>\n",
       "      <td>0.693578</td>\n",
       "      <td>-0.615971</td>\n",
       "      <td>-0.847865</td>\n",
       "      <td>0.185151</td>\n",
       "      <td>-0.043892</td>\n",
       "      <td>1</td>\n",
       "      <td>STANDING</td>\n",
       "    </tr>\n",
       "  </tbody>\n",
       "</table>\n",
       "<p>5 rows × 563 columns</p>\n",
       "</div>"
      ],
      "text/plain": [
       "   tBodyAcc-mean()-X  tBodyAcc-mean()-Y  tBodyAcc-mean()-Z  tBodyAcc-std()-X  \\\n",
       "0           0.288585          -0.020294          -0.132905         -0.995279   \n",
       "1           0.278419          -0.016411          -0.123520         -0.998245   \n",
       "2           0.279653          -0.019467          -0.113462         -0.995380   \n",
       "3           0.279174          -0.026201          -0.123283         -0.996091   \n",
       "4           0.276629          -0.016570          -0.115362         -0.998139   \n",
       "\n",
       "   tBodyAcc-std()-Y  tBodyAcc-std()-Z  tBodyAcc-mad()-X  tBodyAcc-mad()-Y  \\\n",
       "0         -0.983111         -0.913526         -0.995112         -0.983185   \n",
       "1         -0.975300         -0.960322         -0.998807         -0.974914   \n",
       "2         -0.967187         -0.978944         -0.996520         -0.963668   \n",
       "3         -0.983403         -0.990675         -0.997099         -0.982750   \n",
       "4         -0.980817         -0.990482         -0.998321         -0.979672   \n",
       "\n",
       "   tBodyAcc-mad()-Z  tBodyAcc-max()-X    ...     \\\n",
       "0         -0.923527         -0.934724    ...      \n",
       "1         -0.957686         -0.943068    ...      \n",
       "2         -0.977469         -0.938692    ...      \n",
       "3         -0.989302         -0.938692    ...      \n",
       "4         -0.990441         -0.942469    ...      \n",
       "\n",
       "   fBodyBodyGyroJerkMag-kurtosis()  angle(tBodyAccMean,gravity)  \\\n",
       "0                        -0.710304                    -0.112754   \n",
       "1                        -0.861499                     0.053477   \n",
       "2                        -0.760104                    -0.118559   \n",
       "3                        -0.482845                    -0.036788   \n",
       "4                        -0.699205                     0.123320   \n",
       "\n",
       "   angle(tBodyAccJerkMean),gravityMean)  angle(tBodyGyroMean,gravityMean)  \\\n",
       "0                              0.030400                         -0.464761   \n",
       "1                             -0.007435                         -0.732626   \n",
       "2                              0.177899                          0.100699   \n",
       "3                             -0.012892                          0.640011   \n",
       "4                              0.122542                          0.693578   \n",
       "\n",
       "   angle(tBodyGyroJerkMean,gravityMean)  angle(X,gravityMean)  \\\n",
       "0                             -0.018446             -0.841247   \n",
       "1                              0.703511             -0.844788   \n",
       "2                              0.808529             -0.848933   \n",
       "3                             -0.485366             -0.848649   \n",
       "4                             -0.615971             -0.847865   \n",
       "\n",
       "   angle(Y,gravityMean)  angle(Z,gravityMean)  subject  Activity  \n",
       "0              0.179941             -0.058627        1  STANDING  \n",
       "1              0.180289             -0.054317        1  STANDING  \n",
       "2              0.180637             -0.049118        1  STANDING  \n",
       "3              0.181935             -0.047663        1  STANDING  \n",
       "4              0.185151             -0.043892        1  STANDING  \n",
       "\n",
       "[5 rows x 563 columns]"
      ]
     },
     "execution_count": 119,
     "metadata": {},
     "output_type": "execute_result"
    }
   ],
   "source": [
    "sub15.head()"
   ]
  },
  {
   "cell_type": "code",
   "execution_count": 19,
   "metadata": {
    "collapsed": false
   },
   "outputs": [
    {
     "data": {
      "text/html": [
       "<div>\n",
       "<table border=\"1\" class=\"dataframe\">\n",
       "  <thead>\n",
       "    <tr style=\"text-align: right;\">\n",
       "      <th></th>\n",
       "      <th>tBodyAcc-mean()-X</th>\n",
       "      <th>tBodyAcc-mean()-Y</th>\n",
       "      <th>tBodyAcc-mean()-Z</th>\n",
       "      <th>tBodyAcc-std()-X</th>\n",
       "      <th>tBodyAcc-std()-Y</th>\n",
       "      <th>tBodyAcc-std()-Z</th>\n",
       "      <th>tBodyAcc-mad()-X</th>\n",
       "      <th>tBodyAcc-mad()-Y</th>\n",
       "      <th>tBodyAcc-mad()-Z</th>\n",
       "      <th>tBodyAcc-max()-X</th>\n",
       "      <th>...</th>\n",
       "      <th>fBodyBodyGyroJerkMag-kurtosis()</th>\n",
       "      <th>angle(tBodyAccMean,gravity)</th>\n",
       "      <th>angle(tBodyAccJerkMean),gravityMean)</th>\n",
       "      <th>angle(tBodyGyroMean,gravityMean)</th>\n",
       "      <th>angle(tBodyGyroJerkMean,gravityMean)</th>\n",
       "      <th>angle(X,gravityMean)</th>\n",
       "      <th>angle(Y,gravityMean)</th>\n",
       "      <th>angle(Z,gravityMean)</th>\n",
       "      <th>subject</th>\n",
       "      <th>Activity</th>\n",
       "    </tr>\n",
       "  </thead>\n",
       "  <tbody>\n",
       "    <tr>\n",
       "      <th>0</th>\n",
       "      <td>0.288585</td>\n",
       "      <td>-0.020294</td>\n",
       "      <td>-0.132905</td>\n",
       "      <td>-0.995279</td>\n",
       "      <td>-0.983111</td>\n",
       "      <td>-0.913526</td>\n",
       "      <td>-0.995112</td>\n",
       "      <td>-0.983185</td>\n",
       "      <td>-0.923527</td>\n",
       "      <td>-0.934724</td>\n",
       "      <td>...</td>\n",
       "      <td>-0.710304</td>\n",
       "      <td>-0.112754</td>\n",
       "      <td>0.030400</td>\n",
       "      <td>-0.464761</td>\n",
       "      <td>-0.018446</td>\n",
       "      <td>-0.841247</td>\n",
       "      <td>0.179941</td>\n",
       "      <td>-0.058627</td>\n",
       "      <td>1</td>\n",
       "      <td>STANDING</td>\n",
       "    </tr>\n",
       "    <tr>\n",
       "      <th>1</th>\n",
       "      <td>0.278419</td>\n",
       "      <td>-0.016411</td>\n",
       "      <td>-0.123520</td>\n",
       "      <td>-0.998245</td>\n",
       "      <td>-0.975300</td>\n",
       "      <td>-0.960322</td>\n",
       "      <td>-0.998807</td>\n",
       "      <td>-0.974914</td>\n",
       "      <td>-0.957686</td>\n",
       "      <td>-0.943068</td>\n",
       "      <td>...</td>\n",
       "      <td>-0.861499</td>\n",
       "      <td>0.053477</td>\n",
       "      <td>-0.007435</td>\n",
       "      <td>-0.732626</td>\n",
       "      <td>0.703511</td>\n",
       "      <td>-0.844788</td>\n",
       "      <td>0.180289</td>\n",
       "      <td>-0.054317</td>\n",
       "      <td>1</td>\n",
       "      <td>STANDING</td>\n",
       "    </tr>\n",
       "    <tr>\n",
       "      <th>2</th>\n",
       "      <td>0.279653</td>\n",
       "      <td>-0.019467</td>\n",
       "      <td>-0.113462</td>\n",
       "      <td>-0.995380</td>\n",
       "      <td>-0.967187</td>\n",
       "      <td>-0.978944</td>\n",
       "      <td>-0.996520</td>\n",
       "      <td>-0.963668</td>\n",
       "      <td>-0.977469</td>\n",
       "      <td>-0.938692</td>\n",
       "      <td>...</td>\n",
       "      <td>-0.760104</td>\n",
       "      <td>-0.118559</td>\n",
       "      <td>0.177899</td>\n",
       "      <td>0.100699</td>\n",
       "      <td>0.808529</td>\n",
       "      <td>-0.848933</td>\n",
       "      <td>0.180637</td>\n",
       "      <td>-0.049118</td>\n",
       "      <td>1</td>\n",
       "      <td>STANDING</td>\n",
       "    </tr>\n",
       "    <tr>\n",
       "      <th>3</th>\n",
       "      <td>0.279174</td>\n",
       "      <td>-0.026201</td>\n",
       "      <td>-0.123283</td>\n",
       "      <td>-0.996091</td>\n",
       "      <td>-0.983403</td>\n",
       "      <td>-0.990675</td>\n",
       "      <td>-0.997099</td>\n",
       "      <td>-0.982750</td>\n",
       "      <td>-0.989302</td>\n",
       "      <td>-0.938692</td>\n",
       "      <td>...</td>\n",
       "      <td>-0.482845</td>\n",
       "      <td>-0.036788</td>\n",
       "      <td>-0.012892</td>\n",
       "      <td>0.640011</td>\n",
       "      <td>-0.485366</td>\n",
       "      <td>-0.848649</td>\n",
       "      <td>0.181935</td>\n",
       "      <td>-0.047663</td>\n",
       "      <td>1</td>\n",
       "      <td>STANDING</td>\n",
       "    </tr>\n",
       "    <tr>\n",
       "      <th>4</th>\n",
       "      <td>0.276629</td>\n",
       "      <td>-0.016570</td>\n",
       "      <td>-0.115362</td>\n",
       "      <td>-0.998139</td>\n",
       "      <td>-0.980817</td>\n",
       "      <td>-0.990482</td>\n",
       "      <td>-0.998321</td>\n",
       "      <td>-0.979672</td>\n",
       "      <td>-0.990441</td>\n",
       "      <td>-0.942469</td>\n",
       "      <td>...</td>\n",
       "      <td>-0.699205</td>\n",
       "      <td>0.123320</td>\n",
       "      <td>0.122542</td>\n",
       "      <td>0.693578</td>\n",
       "      <td>-0.615971</td>\n",
       "      <td>-0.847865</td>\n",
       "      <td>0.185151</td>\n",
       "      <td>-0.043892</td>\n",
       "      <td>1</td>\n",
       "      <td>STANDING</td>\n",
       "    </tr>\n",
       "  </tbody>\n",
       "</table>\n",
       "<p>5 rows × 563 columns</p>\n",
       "</div>"
      ],
      "text/plain": [
       "   tBodyAcc-mean()-X  tBodyAcc-mean()-Y  tBodyAcc-mean()-Z  tBodyAcc-std()-X  \\\n",
       "0           0.288585          -0.020294          -0.132905         -0.995279   \n",
       "1           0.278419          -0.016411          -0.123520         -0.998245   \n",
       "2           0.279653          -0.019467          -0.113462         -0.995380   \n",
       "3           0.279174          -0.026201          -0.123283         -0.996091   \n",
       "4           0.276629          -0.016570          -0.115362         -0.998139   \n",
       "\n",
       "   tBodyAcc-std()-Y  tBodyAcc-std()-Z  tBodyAcc-mad()-X  tBodyAcc-mad()-Y  \\\n",
       "0         -0.983111         -0.913526         -0.995112         -0.983185   \n",
       "1         -0.975300         -0.960322         -0.998807         -0.974914   \n",
       "2         -0.967187         -0.978944         -0.996520         -0.963668   \n",
       "3         -0.983403         -0.990675         -0.997099         -0.982750   \n",
       "4         -0.980817         -0.990482         -0.998321         -0.979672   \n",
       "\n",
       "   tBodyAcc-mad()-Z  tBodyAcc-max()-X    ...     \\\n",
       "0         -0.923527         -0.934724    ...      \n",
       "1         -0.957686         -0.943068    ...      \n",
       "2         -0.977469         -0.938692    ...      \n",
       "3         -0.989302         -0.938692    ...      \n",
       "4         -0.990441         -0.942469    ...      \n",
       "\n",
       "   fBodyBodyGyroJerkMag-kurtosis()  angle(tBodyAccMean,gravity)  \\\n",
       "0                        -0.710304                    -0.112754   \n",
       "1                        -0.861499                     0.053477   \n",
       "2                        -0.760104                    -0.118559   \n",
       "3                        -0.482845                    -0.036788   \n",
       "4                        -0.699205                     0.123320   \n",
       "\n",
       "   angle(tBodyAccJerkMean),gravityMean)  angle(tBodyGyroMean,gravityMean)  \\\n",
       "0                              0.030400                         -0.464761   \n",
       "1                             -0.007435                         -0.732626   \n",
       "2                              0.177899                          0.100699   \n",
       "3                             -0.012892                          0.640011   \n",
       "4                              0.122542                          0.693578   \n",
       "\n",
       "   angle(tBodyGyroJerkMean,gravityMean)  angle(X,gravityMean)  \\\n",
       "0                             -0.018446             -0.841247   \n",
       "1                              0.703511             -0.844788   \n",
       "2                              0.808529             -0.848933   \n",
       "3                             -0.485366             -0.848649   \n",
       "4                             -0.615971             -0.847865   \n",
       "\n",
       "   angle(Y,gravityMean)  angle(Z,gravityMean)  subject  Activity  \n",
       "0              0.179941             -0.058627        1  STANDING  \n",
       "1              0.180289             -0.054317        1  STANDING  \n",
       "2              0.180637             -0.049118        1  STANDING  \n",
       "3              0.181935             -0.047663        1  STANDING  \n",
       "4              0.185151             -0.043892        1  STANDING  \n",
       "\n",
       "[5 rows x 563 columns]"
      ]
     },
     "execution_count": 19,
     "metadata": {},
     "output_type": "execute_result"
    }
   ],
   "source": [
    "train.head()"
   ]
  },
  {
   "cell_type": "code",
   "execution_count": 120,
   "metadata": {
    "collapsed": false
   },
   "outputs": [
    {
     "data": {
      "text/plain": [
       "1    347\n",
       "3    341\n",
       "5    302\n",
       "6      9\n",
       "Name: subject, dtype: int64"
      ]
     },
     "execution_count": 120,
     "metadata": {},
     "output_type": "execute_result"
    }
   ],
   "source": [
    "train.subject.value_counts()"
   ]
  },
  {
   "cell_type": "code",
   "execution_count": 123,
   "metadata": {
    "collapsed": false
   },
   "outputs": [
    {
     "data": {
      "image/png": "[encoded data removed]",
      "text/plain": [
       "<matplotlib.figure.Figure at 0x7fd57eb20050>"
      ]
     },
     "metadata": {},
     "output_type": "display_data"
    }
   ],
   "source": [
    "fig = plt.figure(figsize=(32,24))\n",
    "ax1 = fig.add_subplot(221)\n",
    "ax1 = sb.stripplot(x='Activity', y=sub15.iloc[:,0], data=sub15, jitter=True)\n",
    "ax2 = fig.add_subplot(222)\n",
    "ax2 = sb.stripplot(x='Activity', y=sub15.iloc[:,1], data=sub15, jitter=True)\n",
    "plt.show()"
   ]
  },
  {
   "cell_type": "code",
   "execution_count": 124,
   "metadata": {
    "collapsed": false
   },
   "outputs": [
    {
     "data": {
      "image/png": "[encoded data removed]",
      "text/plain": [
       "<matplotlib.figure.Figure at 0x7fd57ec42c90>"
      ]
     },
     "metadata": {},
     "output_type": "display_data"
    }
   ],
   "source": [
    "fig = plt.figure(figsize=(32,24))\n",
    "ax1 = fig.add_subplot(221)\n",
    "ax1 = sb.stripplot(x='Activity', y=sub15.iloc[:,2], data=sub15, jitter=True)\n",
    "ax2 = fig.add_subplot(222)\n",
    "ax2 = sb.stripplot(x='Activity', y=sub15.iloc[:,3], data=sub15, jitter=True)\n",
    "plt.show()"
   ]
  },
  {
   "cell_type": "code",
   "execution_count": 125,
   "metadata": {
    "collapsed": false
   },
   "outputs": [
    {
     "data": {
      "image/png": "[encoded data removed]",
      "text/plain": [
       "<matplotlib.figure.Figure at 0x7fd5add4bc50>"
      ]
     },
     "metadata": {},
     "output_type": "display_data"
    }
   ],
   "source": [
    "fig = plt.figure(figsize=(32,24))\n",
    "ax1 = fig.add_subplot(221)\n",
    "ax1 = sb.stripplot(x='Activity', y=sub15.iloc[:,4], data=sub15, jitter=True)\n",
    "ax2 = fig.add_subplot(222)\n",
    "ax2 = sb.stripplot(x='Activity', y=sub15.iloc[:,5], data=sub15, jitter=True)\n",
    "plt.show()"
   ]
  },
  {
   "cell_type": "code",
   "execution_count": 144,
   "metadata": {
    "collapsed": true
   },
   "outputs": [],
   "source": [
    "import numpy as np # linear algebra\n",
    "import pandas as pd # data processing, CSV file I/O (e.g. pd.read_csv)\n"
   ]
  },
  {
   "cell_type": "code",
   "execution_count": 203,
   "metadata": {
    "collapsed": false
   },
   "outputs": [
    {
     "data": {
      "text/plain": [
       "Index([u'tBodyAcc-mean()-X', u'tBodyAcc-mean()-Y', u'tBodyAcc-mean()-Z',\n",
       "       u'tBodyAcc-std()-X', u'tBodyAcc-std()-Y', u'tBodyAcc-std()-Z',\n",
       "       u'tBodyAcc-mad()-X', u'tBodyAcc-mad()-Y', u'tBodyAcc-mad()-Z',\n",
       "       u'tBodyAcc-max()-X',\n",
       "       ...\n",
       "       u'fBodyBodyGyroJerkMag-kurtosis()', u'angle(tBodyAccMean,gravity)',\n",
       "       u'angle(tBodyAccJerkMean),gravityMean)',\n",
       "       u'angle(tBodyGyroMean,gravityMean)',\n",
       "       u'angle(tBodyGyroJerkMean,gravityMean)', u'angle(X,gravityMean)',\n",
       "       u'angle(Y,gravityMean)', u'angle(Z,gravityMean)', u'subject',\n",
       "       u'Activity'],\n",
       "      dtype='object', length=563)"
      ]
     },
     "execution_count": 203,
     "metadata": {},
     "output_type": "execute_result"
    }
   ],
   "source": [
    "#https://s3.amazonaws.com/hackerday.datascience/112/test.csv\n",
    "#https://s3.amazonaws.com/hackerday.datascience/112/train.csv\n",
    "train_df = pd.read_csv(\"https://s3.amazonaws.com/hackerday.datascience/112/train.csv\")\n",
    "test_df = pd.read_csv(\"https://s3.amazonaws.com/hackerday.datascience/112/test.csv\")\n",
    "train_df.columns"
   ]
  },
  {
   "cell_type": "code",
   "execution_count": 146,
   "metadata": {
    "collapsed": false
   },
   "outputs": [
    {
     "name": "stdout",
     "output_type": "stream",
     "text": [
      "NUmber of unique activities: 6\n"
     ]
    },
    {
     "data": {
      "text/html": [
       "<div>\n",
       "<table border=\"1\" class=\"dataframe\">\n",
       "  <thead>\n",
       "    <tr style=\"text-align: right;\">\n",
       "      <th></th>\n",
       "      <th>tBodyAcc-mean()-X</th>\n",
       "      <th>tBodyAcc-mean()-Y</th>\n",
       "      <th>tBodyAcc-mean()-Z</th>\n",
       "      <th>tBodyAcc-std()-X</th>\n",
       "      <th>tBodyAcc-std()-Y</th>\n",
       "      <th>tBodyAcc-std()-Z</th>\n",
       "      <th>tBodyAcc-mad()-X</th>\n",
       "      <th>tBodyAcc-mad()-Y</th>\n",
       "      <th>tBodyAcc-mad()-Z</th>\n",
       "      <th>tBodyAcc-max()-X</th>\n",
       "      <th>...</th>\n",
       "      <th>fBodyBodyGyroJerkMag-kurtosis()</th>\n",
       "      <th>angle(tBodyAccMean,gravity)</th>\n",
       "      <th>angle(tBodyAccJerkMean),gravityMean)</th>\n",
       "      <th>angle(tBodyGyroMean,gravityMean)</th>\n",
       "      <th>angle(tBodyGyroJerkMean,gravityMean)</th>\n",
       "      <th>angle(X,gravityMean)</th>\n",
       "      <th>angle(Y,gravityMean)</th>\n",
       "      <th>angle(Z,gravityMean)</th>\n",
       "      <th>subject</th>\n",
       "      <th>Activity</th>\n",
       "    </tr>\n",
       "  </thead>\n",
       "  <tbody>\n",
       "    <tr>\n",
       "      <th>0</th>\n",
       "      <td>0.288585</td>\n",
       "      <td>-0.020294</td>\n",
       "      <td>-0.132905</td>\n",
       "      <td>-0.995279</td>\n",
       "      <td>-0.983111</td>\n",
       "      <td>-0.913526</td>\n",
       "      <td>-0.995112</td>\n",
       "      <td>-0.983185</td>\n",
       "      <td>-0.923527</td>\n",
       "      <td>-0.934724</td>\n",
       "      <td>...</td>\n",
       "      <td>-0.710304</td>\n",
       "      <td>-0.112754</td>\n",
       "      <td>0.030400</td>\n",
       "      <td>-0.464761</td>\n",
       "      <td>-0.018446</td>\n",
       "      <td>-0.841247</td>\n",
       "      <td>0.179941</td>\n",
       "      <td>-0.058627</td>\n",
       "      <td>1</td>\n",
       "      <td>0</td>\n",
       "    </tr>\n",
       "    <tr>\n",
       "      <th>1</th>\n",
       "      <td>0.278419</td>\n",
       "      <td>-0.016411</td>\n",
       "      <td>-0.123520</td>\n",
       "      <td>-0.998245</td>\n",
       "      <td>-0.975300</td>\n",
       "      <td>-0.960322</td>\n",
       "      <td>-0.998807</td>\n",
       "      <td>-0.974914</td>\n",
       "      <td>-0.957686</td>\n",
       "      <td>-0.943068</td>\n",
       "      <td>...</td>\n",
       "      <td>-0.861499</td>\n",
       "      <td>0.053477</td>\n",
       "      <td>-0.007435</td>\n",
       "      <td>-0.732626</td>\n",
       "      <td>0.703511</td>\n",
       "      <td>-0.844788</td>\n",
       "      <td>0.180289</td>\n",
       "      <td>-0.054317</td>\n",
       "      <td>1</td>\n",
       "      <td>0</td>\n",
       "    </tr>\n",
       "    <tr>\n",
       "      <th>2</th>\n",
       "      <td>0.279653</td>\n",
       "      <td>-0.019467</td>\n",
       "      <td>-0.113462</td>\n",
       "      <td>-0.995380</td>\n",
       "      <td>-0.967187</td>\n",
       "      <td>-0.978944</td>\n",
       "      <td>-0.996520</td>\n",
       "      <td>-0.963668</td>\n",
       "      <td>-0.977469</td>\n",
       "      <td>-0.938692</td>\n",
       "      <td>...</td>\n",
       "      <td>-0.760104</td>\n",
       "      <td>-0.118559</td>\n",
       "      <td>0.177899</td>\n",
       "      <td>0.100699</td>\n",
       "      <td>0.808529</td>\n",
       "      <td>-0.848933</td>\n",
       "      <td>0.180637</td>\n",
       "      <td>-0.049118</td>\n",
       "      <td>1</td>\n",
       "      <td>0</td>\n",
       "    </tr>\n",
       "    <tr>\n",
       "      <th>3</th>\n",
       "      <td>0.279174</td>\n",
       "      <td>-0.026201</td>\n",
       "      <td>-0.123283</td>\n",
       "      <td>-0.996091</td>\n",
       "      <td>-0.983403</td>\n",
       "      <td>-0.990675</td>\n",
       "      <td>-0.997099</td>\n",
       "      <td>-0.982750</td>\n",
       "      <td>-0.989302</td>\n",
       "      <td>-0.938692</td>\n",
       "      <td>...</td>\n",
       "      <td>-0.482845</td>\n",
       "      <td>-0.036788</td>\n",
       "      <td>-0.012892</td>\n",
       "      <td>0.640011</td>\n",
       "      <td>-0.485366</td>\n",
       "      <td>-0.848649</td>\n",
       "      <td>0.181935</td>\n",
       "      <td>-0.047663</td>\n",
       "      <td>1</td>\n",
       "      <td>0</td>\n",
       "    </tr>\n",
       "    <tr>\n",
       "      <th>4</th>\n",
       "      <td>0.276629</td>\n",
       "      <td>-0.016570</td>\n",
       "      <td>-0.115362</td>\n",
       "      <td>-0.998139</td>\n",
       "      <td>-0.980817</td>\n",
       "      <td>-0.990482</td>\n",
       "      <td>-0.998321</td>\n",
       "      <td>-0.979672</td>\n",
       "      <td>-0.990441</td>\n",
       "      <td>-0.942469</td>\n",
       "      <td>...</td>\n",
       "      <td>-0.699205</td>\n",
       "      <td>0.123320</td>\n",
       "      <td>0.122542</td>\n",
       "      <td>0.693578</td>\n",
       "      <td>-0.615971</td>\n",
       "      <td>-0.847865</td>\n",
       "      <td>0.185151</td>\n",
       "      <td>-0.043892</td>\n",
       "      <td>1</td>\n",
       "      <td>0</td>\n",
       "    </tr>\n",
       "    <tr>\n",
       "      <th>5</th>\n",
       "      <td>0.277199</td>\n",
       "      <td>-0.010098</td>\n",
       "      <td>-0.105137</td>\n",
       "      <td>-0.997335</td>\n",
       "      <td>-0.990487</td>\n",
       "      <td>-0.995420</td>\n",
       "      <td>-0.997627</td>\n",
       "      <td>-0.990218</td>\n",
       "      <td>-0.995549</td>\n",
       "      <td>-0.942469</td>\n",
       "      <td>...</td>\n",
       "      <td>-0.844619</td>\n",
       "      <td>0.082632</td>\n",
       "      <td>-0.143439</td>\n",
       "      <td>0.275041</td>\n",
       "      <td>-0.368224</td>\n",
       "      <td>-0.849632</td>\n",
       "      <td>0.184823</td>\n",
       "      <td>-0.042126</td>\n",
       "      <td>1</td>\n",
       "      <td>0</td>\n",
       "    </tr>\n",
       "    <tr>\n",
       "      <th>6</th>\n",
       "      <td>0.279454</td>\n",
       "      <td>-0.019641</td>\n",
       "      <td>-0.110022</td>\n",
       "      <td>-0.996921</td>\n",
       "      <td>-0.967186</td>\n",
       "      <td>-0.983118</td>\n",
       "      <td>-0.997003</td>\n",
       "      <td>-0.966097</td>\n",
       "      <td>-0.983116</td>\n",
       "      <td>-0.940987</td>\n",
       "      <td>...</td>\n",
       "      <td>-0.564430</td>\n",
       "      <td>-0.212754</td>\n",
       "      <td>-0.230622</td>\n",
       "      <td>0.014637</td>\n",
       "      <td>-0.189512</td>\n",
       "      <td>-0.852150</td>\n",
       "      <td>0.182170</td>\n",
       "      <td>-0.043010</td>\n",
       "      <td>1</td>\n",
       "      <td>0</td>\n",
       "    </tr>\n",
       "    <tr>\n",
       "      <th>7</th>\n",
       "      <td>0.277432</td>\n",
       "      <td>-0.030488</td>\n",
       "      <td>-0.125360</td>\n",
       "      <td>-0.996559</td>\n",
       "      <td>-0.966728</td>\n",
       "      <td>-0.981585</td>\n",
       "      <td>-0.996485</td>\n",
       "      <td>-0.966313</td>\n",
       "      <td>-0.982982</td>\n",
       "      <td>-0.940987</td>\n",
       "      <td>...</td>\n",
       "      <td>-0.421715</td>\n",
       "      <td>-0.020888</td>\n",
       "      <td>0.593996</td>\n",
       "      <td>-0.561871</td>\n",
       "      <td>0.467383</td>\n",
       "      <td>-0.851017</td>\n",
       "      <td>0.183779</td>\n",
       "      <td>-0.041976</td>\n",
       "      <td>1</td>\n",
       "      <td>0</td>\n",
       "    </tr>\n",
       "    <tr>\n",
       "      <th>8</th>\n",
       "      <td>0.277293</td>\n",
       "      <td>-0.021751</td>\n",
       "      <td>-0.120751</td>\n",
       "      <td>-0.997328</td>\n",
       "      <td>-0.961245</td>\n",
       "      <td>-0.983672</td>\n",
       "      <td>-0.997596</td>\n",
       "      <td>-0.957236</td>\n",
       "      <td>-0.984379</td>\n",
       "      <td>-0.940598</td>\n",
       "      <td>...</td>\n",
       "      <td>-0.572995</td>\n",
       "      <td>0.012954</td>\n",
       "      <td>0.080936</td>\n",
       "      <td>-0.234313</td>\n",
       "      <td>0.117797</td>\n",
       "      <td>-0.847971</td>\n",
       "      <td>0.188982</td>\n",
       "      <td>-0.037364</td>\n",
       "      <td>1</td>\n",
       "      <td>0</td>\n",
       "    </tr>\n",
       "    <tr>\n",
       "      <th>9</th>\n",
       "      <td>0.280586</td>\n",
       "      <td>-0.009960</td>\n",
       "      <td>-0.106065</td>\n",
       "      <td>-0.994803</td>\n",
       "      <td>-0.972758</td>\n",
       "      <td>-0.986244</td>\n",
       "      <td>-0.995405</td>\n",
       "      <td>-0.973663</td>\n",
       "      <td>-0.985642</td>\n",
       "      <td>-0.940028</td>\n",
       "      <td>...</td>\n",
       "      <td>0.140452</td>\n",
       "      <td>-0.020590</td>\n",
       "      <td>-0.127730</td>\n",
       "      <td>-0.482871</td>\n",
       "      <td>-0.070670</td>\n",
       "      <td>-0.848294</td>\n",
       "      <td>0.190310</td>\n",
       "      <td>-0.034417</td>\n",
       "      <td>1</td>\n",
       "      <td>0</td>\n",
       "    </tr>\n",
       "  </tbody>\n",
       "</table>\n",
       "<p>10 rows × 563 columns</p>\n",
       "</div>"
      ],
      "text/plain": [
       "   tBodyAcc-mean()-X  tBodyAcc-mean()-Y  tBodyAcc-mean()-Z  tBodyAcc-std()-X  \\\n",
       "0           0.288585          -0.020294          -0.132905         -0.995279   \n",
       "1           0.278419          -0.016411          -0.123520         -0.998245   \n",
       "2           0.279653          -0.019467          -0.113462         -0.995380   \n",
       "3           0.279174          -0.026201          -0.123283         -0.996091   \n",
       "4           0.276629          -0.016570          -0.115362         -0.998139   \n",
       "5           0.277199          -0.010098          -0.105137         -0.997335   \n",
       "6           0.279454          -0.019641          -0.110022         -0.996921   \n",
       "7           0.277432          -0.030488          -0.125360         -0.996559   \n",
       "8           0.277293          -0.021751          -0.120751         -0.997328   \n",
       "9           0.280586          -0.009960          -0.106065         -0.994803   \n",
       "\n",
       "   tBodyAcc-std()-Y  tBodyAcc-std()-Z  tBodyAcc-mad()-X  tBodyAcc-mad()-Y  \\\n",
       "0         -0.983111         -0.913526         -0.995112         -0.983185   \n",
       "1         -0.975300         -0.960322         -0.998807         -0.974914   \n",
       "2         -0.967187         -0.978944         -0.996520         -0.963668   \n",
       "3         -0.983403         -0.990675         -0.997099         -0.982750   \n",
       "4         -0.980817         -0.990482         -0.998321         -0.979672   \n",
       "5         -0.990487         -0.995420         -0.997627         -0.990218   \n",
       "6         -0.967186         -0.983118         -0.997003         -0.966097   \n",
       "7         -0.966728         -0.981585         -0.996485         -0.966313   \n",
       "8         -0.961245         -0.983672         -0.997596         -0.957236   \n",
       "9         -0.972758         -0.986244         -0.995405         -0.973663   \n",
       "\n",
       "   tBodyAcc-mad()-Z  tBodyAcc-max()-X    ...     \\\n",
       "0         -0.923527         -0.934724    ...      \n",
       "1         -0.957686         -0.943068    ...      \n",
       "2         -0.977469         -0.938692    ...      \n",
       "3         -0.989302         -0.938692    ...      \n",
       "4         -0.990441         -0.942469    ...      \n",
       "5         -0.995549         -0.942469    ...      \n",
       "6         -0.983116         -0.940987    ...      \n",
       "7         -0.982982         -0.940987    ...      \n",
       "8         -0.984379         -0.940598    ...      \n",
       "9         -0.985642         -0.940028    ...      \n",
       "\n",
       "   fBodyBodyGyroJerkMag-kurtosis()  angle(tBodyAccMean,gravity)  \\\n",
       "0                        -0.710304                    -0.112754   \n",
       "1                        -0.861499                     0.053477   \n",
       "2                        -0.760104                    -0.118559   \n",
       "3                        -0.482845                    -0.036788   \n",
       "4                        -0.699205                     0.123320   \n",
       "5                        -0.844619                     0.082632   \n",
       "6                        -0.564430                    -0.212754   \n",
       "7                        -0.421715                    -0.020888   \n",
       "8                        -0.572995                     0.012954   \n",
       "9                         0.140452                    -0.020590   \n",
       "\n",
       "   angle(tBodyAccJerkMean),gravityMean)  angle(tBodyGyroMean,gravityMean)  \\\n",
       "0                              0.030400                         -0.464761   \n",
       "1                             -0.007435                         -0.732626   \n",
       "2                              0.177899                          0.100699   \n",
       "3                             -0.012892                          0.640011   \n",
       "4                              0.122542                          0.693578   \n",
       "5                             -0.143439                          0.275041   \n",
       "6                             -0.230622                          0.014637   \n",
       "7                              0.593996                         -0.561871   \n",
       "8                              0.080936                         -0.234313   \n",
       "9                             -0.127730                         -0.482871   \n",
       "\n",
       "   angle(tBodyGyroJerkMean,gravityMean)  angle(X,gravityMean)  \\\n",
       "0                             -0.018446             -0.841247   \n",
       "1                              0.703511             -0.844788   \n",
       "2                              0.808529             -0.848933   \n",
       "3                             -0.485366             -0.848649   \n",
       "4                             -0.615971             -0.847865   \n",
       "5                             -0.368224             -0.849632   \n",
       "6                             -0.189512             -0.852150   \n",
       "7                              0.467383             -0.851017   \n",
       "8                              0.117797             -0.847971   \n",
       "9                             -0.070670             -0.848294   \n",
       "\n",
       "   angle(Y,gravityMean)  angle(Z,gravityMean)  subject  Activity  \n",
       "0              0.179941             -0.058627        1         0  \n",
       "1              0.180289             -0.054317        1         0  \n",
       "2              0.180637             -0.049118        1         0  \n",
       "3              0.181935             -0.047663        1         0  \n",
       "4              0.185151             -0.043892        1         0  \n",
       "5              0.184823             -0.042126        1         0  \n",
       "6              0.182170             -0.043010        1         0  \n",
       "7              0.183779             -0.041976        1         0  \n",
       "8              0.188982             -0.037364        1         0  \n",
       "9              0.190310             -0.034417        1         0  \n",
       "\n",
       "[10 rows x 563 columns]"
      ]
     },
     "execution_count": 146,
     "metadata": {},
     "output_type": "execute_result"
    }
   ],
   "source": [
    "unique_activities = train_df.Activity.unique()\n",
    "print(\"NUmber of unique activities: {}\".format(len(unique_activities)))\n",
    "replacer = {}\n",
    "for i, activity in enumerate(unique_activities):\n",
    "    replacer[activity] = i\n",
    "train_df.Activity = train_df.Activity.replace(replacer)\n",
    "test_df.Activity = test_df.Activity.replace(replacer)\n",
    "train_df.head(10)\n"
   ]
  },
  {
   "cell_type": "code",
   "execution_count": 147,
   "metadata": {
    "collapsed": true
   },
   "outputs": [],
   "source": [
    "train_df = train_df.drop(\"subject\", axis=1)\n",
    "test_df = test_df.drop(\"subject\", axis=1)\n"
   ]
  },
  {
   "cell_type": "code",
   "execution_count": 148,
   "metadata": {
    "collapsed": true
   },
   "outputs": [],
   "source": [
    "def get_all_data():\n",
    "    train_values = train_df.values\n",
    "    test_values = test_df.values\n",
    "    np.random.shuffle(train_values)\n",
    "    np.random.shuffle(test_values)\n",
    "    X_train = train_values[:, :-1]\n",
    "    X_test = test_values[:, :-1]\n",
    "    y_train = train_values[:, -1]\n",
    "    y_test = test_values[:, -1]\n",
    "    return X_train, X_test, y_train, y_test"
   ]
  },
  {
   "cell_type": "code",
   "execution_count": 149,
   "metadata": {
    "collapsed": false
   },
   "outputs": [],
   "source": [
    "from sklearn.linear_model import LogisticRegression\n",
    "X_train, X_test, y_train, y_test = get_all_data()"
   ]
  },
  {
   "cell_type": "code",
   "execution_count": 150,
   "metadata": {
    "collapsed": false
   },
   "outputs": [
    {
     "data": {
      "text/plain": [
       "LogisticRegression(C=10, class_weight=None, dual=False, fit_intercept=True,\n",
       "          intercept_scaling=1, max_iter=100, multi_class='ovr', n_jobs=1,\n",
       "          penalty='l2', random_state=None, solver='liblinear', tol=0.0001,\n",
       "          verbose=0, warm_start=False)"
      ]
     },
     "execution_count": 150,
     "metadata": {},
     "output_type": "execute_result"
    }
   ],
   "source": [
    "model = LogisticRegression(C=10)\n",
    "model"
   ]
  },
  {
   "cell_type": "code",
   "execution_count": 151,
   "metadata": {
    "collapsed": false
   },
   "outputs": [
    {
     "data": {
      "text/plain": [
       "LogisticRegression(C=1.0, class_weight=None, dual=False, fit_intercept=True,\n",
       "          intercept_scaling=1, max_iter=100, multi_class='ovr', n_jobs=1,\n",
       "          penalty='l2', random_state=None, solver='liblinear', tol=0.0001,\n",
       "          verbose=0, warm_start=False)"
      ]
     },
     "execution_count": 151,
     "metadata": {},
     "output_type": "execute_result"
    }
   ],
   "source": [
    "model = LogisticRegression()\n",
    "model"
   ]
  },
  {
   "cell_type": "code",
   "execution_count": 152,
   "metadata": {
    "collapsed": false
   },
   "outputs": [
    {
     "data": {
      "text/plain": [
       "LogisticRegression(C=1.0, class_weight=None, dual=False, fit_intercept=True,\n",
       "          intercept_scaling=1, max_iter=100, multi_class='ovr', n_jobs=1,\n",
       "          penalty='l2', random_state=None, solver='liblinear', tol=0.0001,\n",
       "          verbose=0, warm_start=False)"
      ]
     },
     "execution_count": 152,
     "metadata": {},
     "output_type": "execute_result"
    }
   ],
   "source": [
    "model.fit(X_train, y_train)\n"
   ]
  },
  {
   "cell_type": "code",
   "execution_count": 153,
   "metadata": {
    "collapsed": false
   },
   "outputs": [
    {
     "data": {
      "text/plain": [
       "0.87287287287287285"
      ]
     },
     "execution_count": 153,
     "metadata": {},
     "output_type": "execute_result"
    }
   ],
   "source": [
    "model.score(X_test, y_test)"
   ]
  },
  {
   "cell_type": "code",
   "execution_count": 154,
   "metadata": {
    "collapsed": true
   },
   "outputs": [],
   "source": [
    "#logistic regression : 87%"
   ]
  },
  {
   "cell_type": "code",
   "execution_count": 155,
   "metadata": {
    "collapsed": false
   },
   "outputs": [
    {
     "data": {
      "text/plain": [
       "0.86686686686686687"
      ]
     },
     "execution_count": 155,
     "metadata": {},
     "output_type": "execute_result"
    }
   ],
   "source": [
    "# Try some transformations\n",
    "from sklearn.decomposition import PCA\n",
    "\n",
    "X_train, X_test, y_train, y_test = get_all_data() #generating the training set\n",
    "pca = PCA(n_components=200) # initializing the PCA\n",
    "pca.fit(X_train) #applying PCA\n",
    "X_train = pca.transform(X_train) # transforming the dataset\n",
    "X_test = pca.transform(X_test)\n",
    "\n",
    "model.fit(X_train, y_train) #creating model\n",
    "model.score(X_test, y_test) #score\n",
    "# Worse performance, but trains faster"
   ]
  },
  {
   "cell_type": "code",
   "execution_count": 156,
   "metadata": {
    "collapsed": false
   },
   "outputs": [
    {
     "data": {
      "text/plain": [
       "0.83483483483483478"
      ]
     },
     "execution_count": 156,
     "metadata": {},
     "output_type": "execute_result"
    }
   ],
   "source": [
    "# Scale features to be between -1 and 1\n",
    "from sklearn.preprocessing import StandardScaler\n",
    "\n",
    "scaler = StandardScaler()\n",
    "\n",
    "X_train, X_test, y_train, y_test = get_all_data()\n",
    "scaler.fit(X_train)\n",
    "X_train = scaler.transform(X_train)\n",
    "X_test = scaler.transform(X_test)\n",
    "\n",
    "model.fit(X_train, y_train)\n",
    "model.score(X_test, y_test)\n",
    "# Better performance"
   ]
  },
  {
   "cell_type": "code",
   "execution_count": 157,
   "metadata": {
    "collapsed": false
   },
   "outputs": [],
   "source": [
    "# Neural network\n",
    "from keras.models import Sequential\n",
    "from keras.layers import Dense\n",
    "from keras.wrappers.scikit_learn import KerasClassifier\n",
    "from keras.utils.np_utils import to_categorical"
   ]
  },
  {
   "cell_type": "code",
   "execution_count": 158,
   "metadata": {
    "collapsed": true
   },
   "outputs": [],
   "source": [
    "X_train, X_test, y_train, y_test = get_all_data()\n",
    "scaler.fit(X_train)\n",
    "X_train = scaler.transform(X_train)\n",
    "X_test = scaler.transform(X_test)"
   ]
  },
  {
   "cell_type": "code",
   "execution_count": 160,
   "metadata": {
    "collapsed": false
   },
   "outputs": [
    {
     "name": "stdout",
     "output_type": "stream",
     "text": [
      "(999, 6)\n",
      "(999, 6)\n"
     ]
    }
   ],
   "source": [
    "n_input = X_train.shape[1] # number of features\n",
    "n_output = 6 # number of possible labels\n",
    "n_samples = X_train.shape[0] # number of training samples\n",
    "n_hidden_units = 40\n",
    "Y_train = to_categorical(y_train)\n",
    "Y_test = to_categorical(y_test)\n",
    "print(Y_train.shape)\n",
    "print(Y_test.shape)"
   ]
  },
  {
   "cell_type": "code",
   "execution_count": 161,
   "metadata": {
    "collapsed": true
   },
   "outputs": [],
   "source": [
    "def create_model():\n",
    "    model = Sequential()\n",
    "    model.add(Dense(n_hidden_units,\n",
    "                    input_dim=n_input,\n",
    "                    activation=\"relu\"))\n",
    "    model.add(Dense(n_hidden_units,\n",
    "                    input_dim=n_input,\n",
    "                    activation=\"relu\"))\n",
    "    model.add(Dense(n_output, activation=\"softmax\"))\n",
    "    # Compile model\n",
    "    model.compile(loss=\"categorical_crossentropy\", optimizer=\"adam\", metrics=['accuracy'])\n",
    "    return model"
   ]
  },
  {
   "cell_type": "code",
   "execution_count": 162,
   "metadata": {
    "collapsed": false
   },
   "outputs": [
    {
     "name": "stdout",
     "output_type": "stream",
     "text": [
      "Score: 0.886886881696\n"
     ]
    }
   ],
   "source": [
    "estimator = KerasClassifier(build_fn=create_model, epochs=20, batch_size=10, verbose=False)\n",
    "estimator.fit(X_train, Y_train)\n",
    "print(\"Score: {}\".format(estimator.score(X_test, Y_test)))\n",
    "# accuracy 88.7%"
   ]
  },
  {
   "cell_type": "code",
   "execution_count": 163,
   "metadata": {
    "collapsed": false
   },
   "outputs": [
    {
     "data": {
      "text/plain": [
       "0.90990990990990994"
      ]
     },
     "execution_count": 163,
     "metadata": {},
     "output_type": "execute_result"
    }
   ],
   "source": [
    "from sklearn.ensemble import RandomForestClassifier\n",
    "\n",
    "X_train, X_test, y_train, y_test = get_all_data()\n",
    "scaler.fit(X_train)\n",
    "X_train = scaler.transform(X_train)\n",
    "X_test = scaler.transform(X_test)\n",
    "\n",
    "model = RandomForestClassifier(n_estimators=500)\n",
    "model.fit(X_train, y_train)\n",
    "model.score(X_test, y_test)"
   ]
  },
  {
   "cell_type": "code",
   "execution_count": 164,
   "metadata": {
    "collapsed": true
   },
   "outputs": [],
   "source": [
    "import numpy as np # linear algebra\n",
    "import pandas as pd # data processing, CSV file I/O (e.g. pd.read_csv)\n",
    "\n",
    "from sklearn.preprocessing import StandardScaler,LabelEncoder\n",
    "from sklearn.ensemble import RandomForestClassifier\n",
    "from sklearn.metrics import accuracy_score\n",
    "from sklearn.neighbors import KNeighborsClassifier\n",
    "\n",
    "from keras.models import Sequential\n",
    "from keras.layers import Dense, Dropout, Activation\n",
    "from keras.optimizers import SGD,Adam"
   ]
  },
  {
   "cell_type": "code",
   "execution_count": 165,
   "metadata": {
    "collapsed": true
   },
   "outputs": [],
   "source": [
    "#Feature matrix\n",
    "train_data = train.iloc[:,:561].as_matrix()\n",
    "test_data = test.iloc[:,:561].as_matrix()\n",
    "\n",
    "train_labels = train.iloc[:,562:].as_matrix()\n",
    "test_labels = test.iloc[:,562:].as_matrix()\n",
    "\n",
    "train_labelss=np.zeros((len(train_labels),6))\n",
    "test_labelss=np.zeros((len(test_labels),6))"
   ]
  },
  {
   "cell_type": "code",
   "execution_count": 166,
   "metadata": {
    "collapsed": true
   },
   "outputs": [],
   "source": [
    "for k in range (0,len(train_labels)):\n",
    "    if train_labels[k] =='STANDING':\n",
    "        train_labelss[k][0]=1\n",
    "    elif train_labels[k] =='WALKING':\n",
    "        train_labelss[k][1]=1\n",
    "    elif train_labels[k] =='WALKING_UPSTAIRS':\n",
    "        train_labelss[k][2]=1\n",
    "    elif train_labels[k] =='WALKING_DOWNSTAIRS':\n",
    "        train_labelss[k][3]=1\n",
    "    elif train_labels[k] =='SITTING':\n",
    "        train_labelss[k][4]=1\n",
    "    else:\n",
    "        train_labelss[k][5]=1"
   ]
  },
  {
   "cell_type": "code",
   "execution_count": 167,
   "metadata": {
    "collapsed": true
   },
   "outputs": [],
   "source": [
    "for k in range (0,len(test_labels)):\n",
    "    if test_labels[k] =='STANDING':\n",
    "        test_labelss[k][0]=1\n",
    "    elif test_labels[k] =='WALKING':\n",
    "        test_labelss[k][1]=1\n",
    "    elif test_labels[k] =='WALKING_UPSTAIRS':\n",
    "        test_labelss[k][2]=1\n",
    "    elif test_labels[k] =='WALKING_DOWNSTAIRS':\n",
    "        test_labelss[k][3]=1\n",
    "    elif test_labels[k] =='SITTING':\n",
    "        test_labelss[k][4]=1\n",
    "    else:\n",
    "        test_labelss[k][5]=1"
   ]
  },
  {
   "cell_type": "code",
   "execution_count": 168,
   "metadata": {
    "collapsed": false
   },
   "outputs": [
    {
     "name": "stdout",
     "output_type": "stream",
     "text": [
      "Epoch 1/30\n",
      "999/999 [==============================] - 0s - loss: 1.9129 - acc: 0.2052     \n",
      "Epoch 2/30\n",
      "999/999 [==============================] - 0s - loss: 1.6120 - acc: 0.3163     \n",
      "Epoch 3/30\n",
      "999/999 [==============================] - 0s - loss: 1.4601 - acc: 0.3654     \n",
      "Epoch 4/30\n",
      "999/999 [==============================] - 0s - loss: 1.3231 - acc: 0.4234     \n",
      "Epoch 5/30\n",
      "999/999 [==============================] - 0s - loss: 1.1965 - acc: 0.4865     \n",
      "Epoch 6/30\n",
      "999/999 [==============================] - 0s - loss: 1.1043 - acc: 0.5205     \n",
      "Epoch 7/30\n",
      "999/999 [==============================] - 0s - loss: 1.0122 - acc: 0.5536     \n",
      "Epoch 8/30\n",
      "999/999 [==============================] - 0s - loss: 0.9233 - acc: 0.6296     \n",
      "Epoch 9/30\n",
      "999/999 [==============================] - 0s - loss: 0.8271 - acc: 0.6757     \n",
      "Epoch 10/30\n",
      "999/999 [==============================] - 0s - loss: 0.7907 - acc: 0.6577     \n",
      "Epoch 11/30\n",
      "999/999 [==============================] - 0s - loss: 0.7006 - acc: 0.7217     \n",
      "Epoch 12/30\n",
      "999/999 [==============================] - 0s - loss: 0.6706 - acc: 0.7277     \n",
      "Epoch 13/30\n",
      "999/999 [==============================] - 0s - loss: 0.6646 - acc: 0.7107     \n",
      "Epoch 14/30\n",
      "999/999 [==============================] - 0s - loss: 0.5987 - acc: 0.7427     \n",
      "Epoch 15/30\n",
      "999/999 [==============================] - 0s - loss: 0.5692 - acc: 0.7578     \n",
      "Epoch 16/30\n",
      "999/999 [==============================] - 0s - loss: 0.5256 - acc: 0.7628     \n",
      "Epoch 17/30\n",
      "999/999 [==============================] - 0s - loss: 0.5310 - acc: 0.7548     \n",
      "Epoch 18/30\n",
      "999/999 [==============================] - 0s - loss: 0.5089 - acc: 0.7878     \n",
      "Epoch 19/30\n",
      "999/999 [==============================] - 0s - loss: 0.4919 - acc: 0.7948     \n",
      "Epoch 20/30\n",
      "999/999 [==============================] - 0s - loss: 0.4905 - acc: 0.7768     \n",
      "Epoch 21/30\n",
      "999/999 [==============================] - 0s - loss: 0.4414 - acc: 0.7998     \n",
      "Epoch 22/30\n",
      "999/999 [==============================] - 0s - loss: 0.4167 - acc: 0.8188     \n",
      "Epoch 23/30\n",
      "999/999 [==============================] - 0s - loss: 0.4179 - acc: 0.8228     \n",
      "Epoch 24/30\n",
      "999/999 [==============================] - 0s - loss: 0.3976 - acc: 0.8188     \n",
      "Epoch 25/30\n",
      "999/999 [==============================] - 0s - loss: 0.3978 - acc: 0.8198     \n",
      "Epoch 26/30\n",
      "999/999 [==============================] - 0s - loss: 0.3785 - acc: 0.8218     \n",
      "Epoch 27/30\n",
      "999/999 [==============================] - 0s - loss: 0.3739 - acc: 0.8288     \n",
      "Epoch 28/30\n",
      "999/999 [==============================] - 0s - loss: 0.3691 - acc: 0.8368     \n",
      "Epoch 29/30\n",
      "999/999 [==============================] - 0s - loss: 0.3559 - acc: 0.8438     \n",
      "Epoch 30/30\n",
      "999/999 [==============================] - 0s - loss: 0.3569 - acc: 0.8529     \n",
      "128/999 [==>...........................] - ETA: 0s[0.32960191246744869, 0.8388388383615244]\n"
     ]
    }
   ],
   "source": [
    "model = Sequential()\n",
    "model.add(Dense(64, activation='relu', input_dim=561))\n",
    "model.add(Dropout(0.5))\n",
    "model.add(Dense(64, activation='relu'))\n",
    "model.add(Dropout(0.5))\n",
    "model.add(Dense(6, activation='softmax'))\n",
    "\n",
    "sgd = SGD(lr=0.01, decay=1e-6, momentum=0.9, nesterov=True)\n",
    "model.compile(loss='categorical_crossentropy',optimizer=sgd,metrics=['accuracy'])\n",
    "model.fit(train_data, train_labelss,nb_epoch=30,batch_size=128)\n",
    "score = model.evaluate(test_data, test_labelss, batch_size=128)\n",
    "print(score)"
   ]
  },
  {
   "cell_type": "code",
   "execution_count": 169,
   "metadata": {
    "collapsed": false
   },
   "outputs": [
    {
     "name": "stdout",
     "output_type": "stream",
     "text": [
      "Epoch 1/30\n",
      "999/999 [==============================] - 0s - loss: 0.3569 - acc: 0.8368     \n",
      "Epoch 2/30\n",
      "999/999 [==============================] - 0s - loss: 0.3497 - acc: 0.8418     \n",
      "Epoch 3/30\n",
      "999/999 [==============================] - 0s - loss: 0.3299 - acc: 0.8529     \n",
      "Epoch 4/30\n",
      "999/999 [==============================] - 0s - loss: 0.3149 - acc: 0.8779     \n",
      "Epoch 5/30\n",
      "999/999 [==============================] - 0s - loss: 0.2998 - acc: 0.8679     \n",
      "Epoch 6/30\n",
      "999/999 [==============================] - 0s - loss: 0.3110 - acc: 0.8669     \n",
      "Epoch 7/30\n",
      "999/999 [==============================] - 0s - loss: 0.2888 - acc: 0.8819     \n",
      "Epoch 8/30\n",
      "999/999 [==============================] - 0s - loss: 0.2713 - acc: 0.8879     \n",
      "Epoch 9/30\n",
      "999/999 [==============================] - 0s - loss: 0.2698 - acc: 0.8809     \n",
      "Epoch 10/30\n",
      "999/999 [==============================] - 0s - loss: 0.2460 - acc: 0.9029     \n",
      "Epoch 11/30\n",
      "999/999 [==============================] - 0s - loss: 0.2273 - acc: 0.9039     \n",
      "Epoch 12/30\n",
      "999/999 [==============================] - 0s - loss: 0.2411 - acc: 0.9049     \n",
      "Epoch 13/30\n",
      "999/999 [==============================] - 0s - loss: 0.2404 - acc: 0.8949     \n",
      "Epoch 14/30\n",
      "999/999 [==============================] - 0s - loss: 0.2397 - acc: 0.8989     \n",
      "Epoch 15/30\n",
      "999/999 [==============================] - 0s - loss: 0.2159 - acc: 0.9249     \n",
      "Epoch 16/30\n",
      "999/999 [==============================] - 0s - loss: 0.2184 - acc: 0.9189     \n",
      "Epoch 17/30\n",
      "999/999 [==============================] - 0s - loss: 0.2057 - acc: 0.9209     \n",
      "Epoch 18/30\n",
      "999/999 [==============================] - 0s - loss: 0.1922 - acc: 0.9259     \n",
      "Epoch 19/30\n",
      "999/999 [==============================] - 0s - loss: 0.2099 - acc: 0.9219     \n",
      "Epoch 20/30\n",
      "999/999 [==============================] - 0s - loss: 0.1996 - acc: 0.9219     \n",
      "Epoch 21/30\n",
      "999/999 [==============================] - 0s - loss: 0.1890 - acc: 0.9369     \n",
      "Epoch 22/30\n",
      "999/999 [==============================] - 0s - loss: 0.1910 - acc: 0.9249     \n",
      "Epoch 23/30\n",
      "999/999 [==============================] - 0s - loss: 0.1629 - acc: 0.9469     \n",
      "Epoch 24/30\n",
      "999/999 [==============================] - 0s - loss: 0.1907 - acc: 0.9309     \n",
      "Epoch 25/30\n",
      "999/999 [==============================] - 0s - loss: 0.1553 - acc: 0.9459     \n",
      "Epoch 26/30\n",
      "999/999 [==============================] - 0s - loss: 0.1367 - acc: 0.9580     \n",
      "Epoch 27/30\n",
      "999/999 [==============================] - 0s - loss: 0.1522 - acc: 0.9499     \n",
      "Epoch 28/30\n",
      "999/999 [==============================] - 0s - loss: 0.1479 - acc: 0.9510     \n",
      "Epoch 29/30\n",
      "999/999 [==============================] - 0s - loss: 0.1470 - acc: 0.9489     \n",
      "Epoch 30/30\n",
      "999/999 [==============================] - 0s - loss: 0.1494 - acc: 0.9469     \n",
      "128/999 [==>...........................] - ETA: 0s[0.31314438784325327, 0.87087087313811462]\n"
     ]
    }
   ],
   "source": [
    "model.compile(loss='categorical_crossentropy',optimizer='adam',metrics=['accuracy'])\n",
    "model.fit(train_data, train_labelss,nb_epoch=30,batch_size=128)\n",
    "score = model.evaluate(test_data, test_labelss, batch_size=128)\n",
    "print(score)"
   ]
  },
  {
   "cell_type": "code",
   "execution_count": 205,
   "metadata": {
    "collapsed": true
   },
   "outputs": [],
   "source": [
    "###### Random Forest #######\n",
    "trainData  = train.drop('Activity' , axis=1).values\n",
    "trainLabel = train.Activity.values\n",
    "\n",
    "testData  = test.drop('Activity' , axis=1).values\n",
    "testLabel = test.Activity.values\n",
    "\n",
    "encoder = LabelEncoder()"
   ]
  },
  {
   "cell_type": "code",
   "execution_count": 206,
   "metadata": {
    "collapsed": false
   },
   "outputs": [
    {
     "name": "stdout",
     "output_type": "stream",
     "text": [
      "Random Forest Accuracy: 0.89890\n"
     ]
    }
   ],
   "source": [
    "# encoding test labels \n",
    "encoder.fit(testLabel)\n",
    "testLabelEncoder = encoder.transform(testLabel)\n",
    "\n",
    "# encoding train labels \n",
    "encoder.fit(trainLabel)\n",
    "trainLabelEncoder = encoder.transform(trainLabel)\n",
    "\n",
    "rf = RandomForestClassifier(n_estimators=200,  n_jobs=4, min_samples_leaf=10)    \n",
    "#train\n",
    "rf.fit(trainData, trainLabelEncoder)\n",
    "\n",
    "y_te_pred = rf.predict(testData)\n",
    "\n",
    "acc = accuracy_score(testLabelEncoder, y_te_pred)\n",
    "print(\"Random Forest Accuracy: %.5f\" % (acc))\n"
   ]
  },
  {
   "cell_type": "code",
   "execution_count": 207,
   "metadata": {
    "collapsed": false
   },
   "outputs": [
    {
     "name": "stdout",
     "output_type": "stream",
     "text": [
      "K-Nearest Neighbors Accuracy: 0.76476\n"
     ]
    }
   ],
   "source": [
    "##### K-Nearest Neighbors ######\n",
    "clf = KNeighborsClassifier(n_neighbors=24)\n",
    "\n",
    "knnModel = clf.fit(trainData , trainLabelEncoder)\n",
    "y_te_pred = clf.predict(testData)\n",
    "\n",
    "acc = accuracy_score(testLabelEncoder, y_te_pred)\n",
    "print(\"K-Nearest Neighbors Accuracy: %.5f\" % (acc))"
   ]
  },
  {
   "cell_type": "code",
   "execution_count": 208,
   "metadata": {
    "collapsed": true
   },
   "outputs": [],
   "source": [
    "import numpy as np\n",
    "import pandas as pd\n",
    "import time"
   ]
  },
  {
   "cell_type": "code",
   "execution_count": 209,
   "metadata": {
    "collapsed": false
   },
   "outputs": [
    {
     "name": "stdout",
     "output_type": "stream",
     "text": [
      "('Number of features in Train : ', 563)\n",
      "('Number of records  in Train : ', 999)\n",
      "('Number of features in Test  : ', 563)\n",
      "('Number of records  in Test  : ', 999)\n",
      "('Train Data shape  : ', (999, 561))\n",
      "('Train Label shape : ', (999,))\n",
      "('Test Data  shape  : ', (999, 561))\n",
      "('Test Label shape  : ', (999,))\n",
      "Label examples: \n",
      "['LAYING' 'SITTING' 'STANDING' 'WALKING' 'WALKING_DOWNSTAIRS'\n",
      " 'WALKING_UPSTAIRS']\n"
     ]
    }
   ],
   "source": [
    "print(\"Number of features in Train : \", train.shape[1])\n",
    "print(\"Number of records  in Train : \",train.shape[0])\n",
    "print(\"Number of features in Test  : \",test.shape[1])\n",
    "print(\"Number of records  in Test  : \",test.shape[0])\n",
    "\n",
    "trainData  = train.drop(['subject','Activity'] , axis=1).values\n",
    "trainLabel = train.Activity.values\n",
    "\n",
    "testData  = test.drop(['subject','Activity'] , axis=1).values\n",
    "testLabel = test.Activity.values\n",
    "\n",
    "print(\"Train Data shape  : \",trainData.shape)\n",
    "print(\"Train Label shape : \",trainLabel.shape)\n",
    "print(\"Test Data  shape  : \",testData.shape)\n",
    "print(\"Test Label shape  : \",testLabel.shape)\n",
    "\n",
    "print(\"Label examples: \")\n",
    "print(np.unique(trainLabel))"
   ]
  },
  {
   "cell_type": "code",
   "execution_count": 210,
   "metadata": {
    "collapsed": false
   },
   "outputs": [
    {
     "name": "stdout",
     "output_type": "stream",
     "text": [
      "[0 1 2 3 4 5]\n",
      "[0 1 2 3 4 5]\n",
      "('Train Label shape : ', (999,))\n",
      "('Test Label shape  : ', (999,))\n",
      "multiclass\n"
     ]
    }
   ],
   "source": [
    "from sklearn import preprocessing\n",
    "from sklearn import utils\n",
    "\n",
    "ltrain = preprocessing.LabelEncoder()\n",
    "ltest = preprocessing.LabelEncoder()\n",
    "\n",
    "trainLabel = ltrain.fit_transform(trainLabel)\n",
    "testLabel  = ltest.fit_transform(testLabel)\n",
    "\n",
    "print(np.unique(trainLabel))\n",
    "print(np.unique(testLabel))\n",
    "print(\"Train Label shape : \",trainLabel.shape)\n",
    "print(\"Test Label shape  : \",testLabel.shape)\n",
    "print(utils.multiclass.type_of_target(testLabel))"
   ]
  },
  {
   "cell_type": "code",
   "execution_count": 211,
   "metadata": {
    "collapsed": true
   },
   "outputs": [],
   "source": [
    "import matplotlib.pyplot as plt\n",
    "%matplotlib inline\n",
    "from sklearn.svm import SVC\n",
    "from sklearn.model_selection import StratifiedKFold\n",
    "from sklearn.feature_selection import RFECV\n",
    "from sklearn.utils import shuffle"
   ]
  },
  {
   "cell_type": "code",
   "execution_count": 212,
   "metadata": {
    "collapsed": false
   },
   "outputs": [
    {
     "name": "stdout",
     "output_type": "stream",
     "text": [
      "('Labels before Shuffle', array([2, 2, 2, 2, 2]))\n",
      "('Labels after Shuffle', array([1, 5, 5, 0, 3]))\n"
     ]
    }
   ],
   "source": [
    "t0 = time.clock()\n",
    "# Create the RFE object and compute a cross-validated score.\n",
    "svc = SVC(kernel=\"linear\")\n",
    "# The \"accuracy\" scoring is proportional to the number of correct\n",
    "# classifications\n",
    "rfecv = RFECV(estimator=svc, step=1, cv=StratifiedKFold(6),\n",
    "              scoring='accuracy')\n",
    "# Before training the data it is convenient to shuffle the data in training\n",
    "np.random.seed(1)\n",
    "print(\"Labels before Shuffle\",testLabel[0:5])\n",
    "testData,testLabel = shuffle(testData,testLabel)\n",
    "trainData,trainLabel = shuffle(trainData,trainLabel)\n",
    "print(\"Labels after Shuffle\",testLabel[0:5])"
   ]
  },
  {
   "cell_type": "code",
   "execution_count": 213,
   "metadata": {
    "collapsed": false
   },
   "outputs": [
    {
     "name": "stdout",
     "output_type": "stream",
     "text": [
      "Optimal number of features : 159\n",
      "('Processing time sec ', 995.6163200000005)\n"
     ]
    }
   ],
   "source": [
    "# train and fit data in the model\n",
    "rfecv.fit(trainData, trainLabel)\n",
    "\n",
    "print(\"Optimal number of features : %d\" % rfecv.n_features_)\n",
    "print(\"Processing time sec \",time.clock() - t0)\n"
   ]
  },
  {
   "cell_type": "code",
   "execution_count": 214,
   "metadata": {
    "collapsed": false
   },
   "outputs": [
    {
     "data": {
      "image/png": "[encoded data removed]",
      "text/plain": [
       "<matplotlib.figure.Figure at 0x7fd57c1db0d0>"
      ]
     },
     "metadata": {},
     "output_type": "display_data"
    }
   ],
   "source": [
    "# Plot number of features VS. cross-validation scores\n",
    "plt.figure(figsize=(32,12))\n",
    "plt.xlabel(\"Number of features selected\")\n",
    "plt.ylabel(\"Cross validation score (nb of correct classifications)\")\n",
    "plt.plot(range(1, len(rfecv.grid_scores_) + 1), rfecv.grid_scores_)\n",
    "plt.show()"
   ]
  },
  {
   "cell_type": "code",
   "execution_count": 215,
   "metadata": {
    "collapsed": false
   },
   "outputs": [
    {
     "name": "stdout",
     "output_type": "stream",
     "text": [
      "('Accuracy of the SVM model on test data is ', 0.87487487487487492)\n",
      "('Ranking of features starting from the best estimated \\n', array([297, 354, 309,   1,   1, 219,   1,   1, 200,   1, 240, 263, 144,\n",
      "       151, 312, 147,  83, 230, 252, 116,   1, 185,   1,   1, 154, 158,\n",
      "        92, 268,   1,  46,   1,   4,   1,   1, 216,  35,   1,   1,   1,\n",
      "         1,   1,   1,  95, 316, 285, 165, 325, 294, 146,   1,   1,  68,\n",
      "         1,   1, 142,   1,   1,   1,  25, 348, 262, 107,   1,   1,   1,\n",
      "         1,   1,   1,   1,   1,   1,  20,  45,   1,   1,  77,  97,   1,\n",
      "        18,  89, 273,  76,   3,  70,  48, 281, 112,  39, 223,   1,  30,\n",
      "       115,  43,   1, 121, 203, 247, 239, 381, 166,   1, 127,   1,   5,\n",
      "         1,  82,   1,   1,   1,  99,  52,  21,   1, 140,  36, 220,   1,\n",
      "         1,   1,   1, 244, 119, 123, 170, 210, 272, 250, 145, 179,   1,\n",
      "       245, 214, 217, 300, 153, 255, 258, 321, 310, 164,  50, 139,   1,\n",
      "         1,   1,   1,  60,   1,  13,  29,  88, 160,   1,  31, 100, 168,\n",
      "         1,   1,   1,   1, 290, 352,  75, 150, 211, 246, 172, 163, 260,\n",
      "        98, 177,   1, 180, 306, 292, 271, 345, 368, 379,  84,  38, 233,\n",
      "         1,   1,   1,   1,   1,  12,   1,   1, 148,   1,   1,   6,  69,\n",
      "       109,   1,   1,   1,   1, 138,   1,  59,   1, 178, 122, 194, 238,\n",
      "        65,   1,   1, 102,  57, 130,   1,  49,   1, 156, 133, 196, 253,\n",
      "        44,   1,  34, 137, 161, 205,   1,   1, 152, 197, 206, 335,   1,\n",
      "        32, 124, 125, 104,   1, 228, 181, 282,  22,   1, 224, 350, 117,\n",
      "       269,   1,   1,   1,   1, 275, 199, 204, 208, 213, 279, 377, 110,\n",
      "        51, 129,   1,  42,   1,  40,  26, 288,   1,   1, 135,   1,   1,\n",
      "       221,   1,   1,  19, 198, 171, 324, 193,  91,   1, 304,   1,  47,\n",
      "       232,   1, 120,   1,   1,   1, 202,  81,   1,  54,   1,   1,   1,\n",
      "        62,   1,   1,   1, 322, 231, 187, 367, 360, 398, 318,  37, 167,\n",
      "       386, 393,  73, 277,   1,  71, 162, 293, 184, 323, 222, 190,   1,\n",
      "        80, 303, 118,   1, 314, 157, 296, 384, 383, 403, 395, 363, 319,\n",
      "       274, 390, 401, 370, 295, 391,  27, 159, 291, 136,   1, 270,   1,\n",
      "        90, 225, 175,   1, 289, 241, 256, 329, 128, 243, 248, 382,   1,\n",
      "       257, 249,   1,   1,   1,  15,  14,   1,  10,   1,   1,   1,  74,\n",
      "         1,   8,  16, 237,   2, 234, 308, 103, 328, 209, 267, 371, 326,\n",
      "       143, 298, 286, 299,  53,  87, 169,  28, 218, 332, 356, 307, 341,\n",
      "       113, 106, 349, 327, 131, 287, 313, 278, 397, 374, 402, 389, 353,\n",
      "       174, 331, 394, 400, 365, 369, 388, 101, 105, 188, 192, 132, 302,\n",
      "       114, 189, 229, 155,  56, 251, 266, 235,  33, 265, 342, 305, 343,\n",
      "       134,  23,  55,   1,  64, 182,   1,   1,  17,   1,   1,   1,   1,\n",
      "       108,   1,   1,   1,   1, 301, 207, 317, 392, 362, 380, 372, 378,\n",
      "       336, 330, 387, 376, 339, 399, 284, 385, 344, 358, 357, 283, 259,\n",
      "       361, 315, 359, 347, 333, 254, 351, 337, 338, 227, 355, 396, 276,\n",
      "       364, 264, 346, 280, 375, 334, 340, 366,   1,   1,   1,   1,  85,\n",
      "         1,   7,  24,   1,   1,   1,   1,   1,  67,   1,   1,   1, 173,\n",
      "        61, 201,  79,   1,  11,  63,  96,  66, 242, 195, 141, 126, 149,\n",
      "       236, 311, 111,  86, 215,   1,   1,  41, 186, 183, 226,  78, 212,\n",
      "       191, 373, 261,   1, 320,   9,   1,   1,  94,  93,  72,  58,   1,\n",
      "         1, 176]))\n"
     ]
    }
   ],
   "source": [
    "print('Accuracy of the SVM model on test data is ', rfecv.score(testData,testLabel) )\n",
    "print('Ranking of features starting from the best estimated \\n',rfecv.ranking_)\n",
    "# if we mask the features to get only the best we get this\n",
    "best_features = []\n",
    "for ix,val in enumerate(rfecv.support_):\n",
    "    if val==True:\n",
    "        best_features.append(testData[:,ix])"
   ]
  },
  {
   "cell_type": "code",
   "execution_count": 216,
   "metadata": {
    "collapsed": false
   },
   "outputs": [
    {
     "name": "stdout",
     "output_type": "stream",
     "text": [
      "(999, 159)\n"
     ]
    },
    {
     "data": {
      "text/plain": [
       "array([[<matplotlib.axes._subplots.AxesSubplot object at 0x7fd57c1db290>,\n",
       "        <matplotlib.axes._subplots.AxesSubplot object at 0x7fd5af6e66d0>,\n",
       "        <matplotlib.axes._subplots.AxesSubplot object at 0x7fd5af669b90>,\n",
       "        <matplotlib.axes._subplots.AxesSubplot object at 0x7fd5af5ccd90>,\n",
       "        <matplotlib.axes._subplots.AxesSubplot object at 0x7fd5af55c110>],\n",
       "       [<matplotlib.axes._subplots.AxesSubplot object at 0x7fd5af680850>,\n",
       "        <matplotlib.axes._subplots.AxesSubplot object at 0x7fd5af4b6910>,\n",
       "        <matplotlib.axes._subplots.AxesSubplot object at 0x7fd5af438750>,\n",
       "        <matplotlib.axes._subplots.AxesSubplot object at 0x7fd5af757790>,\n",
       "        <matplotlib.axes._subplots.AxesSubplot object at 0x7fd5af7f4510>],\n",
       "       [<matplotlib.axes._subplots.AxesSubplot object at 0x7fd57c3cf710>,\n",
       "        <matplotlib.axes._subplots.AxesSubplot object at 0x7fd57c488c10>,\n",
       "        <matplotlib.axes._subplots.AxesSubplot object at 0x7fd57d8e6550>,\n",
       "        <matplotlib.axes._subplots.AxesSubplot object at 0x7fd57c5eae10>,\n",
       "        <matplotlib.axes._subplots.AxesSubplot object at 0x7fd5bc482310>],\n",
       "       [<matplotlib.axes._subplots.AxesSubplot object at 0x7fd57d6571d0>,\n",
       "        <matplotlib.axes._subplots.AxesSubplot object at 0x7fd57c39ee10>,\n",
       "        <matplotlib.axes._subplots.AxesSubplot object at 0x7fd57d66b790>,\n",
       "        <matplotlib.axes._subplots.AxesSubplot object at 0x7fd57c575dd0>,\n",
       "        <matplotlib.axes._subplots.AxesSubplot object at 0x7fd57c48ab10>],\n",
       "       [<matplotlib.axes._subplots.AxesSubplot object at 0x7fd57c536290>,\n",
       "        <matplotlib.axes._subplots.AxesSubplot object at 0x7fd5af37c0d0>,\n",
       "        <matplotlib.axes._subplots.AxesSubplot object at 0x7fd5af2c9dd0>,\n",
       "        <matplotlib.axes._subplots.AxesSubplot object at 0x7fd5af258cd0>,\n",
       "        <matplotlib.axes._subplots.AxesSubplot object at 0x7fd5af1d9a10>]], dtype=object)"
      ]
     },
     "execution_count": 216,
     "metadata": {},
     "output_type": "execute_result"
    },
    {
     "data": {
      "image/png": "[encoded data removed]",
      "text/plain": [
       "<matplotlib.figure.Figure at 0x7fd5af7bc790>"
      ]
     },
     "metadata": {},
     "output_type": "display_data"
    }
   ],
   "source": [
    "from pandas.tools.plotting import scatter_matrix\n",
    "visualize = pd.DataFrame(np.asarray(best_features).T)\n",
    "print(visualize.shape)\n",
    "scatter_matrix(visualize.iloc[:,0:5], alpha=0.2, figsize=(16, 16), diagonal='kde')"
   ]
  },
  {
   "cell_type": "code",
   "execution_count": 217,
   "metadata": {
    "collapsed": true
   },
   "outputs": [],
   "source": [
    "import numpy as np # linear algebra\n",
    "import pandas as pd # data processing, CSV file I/O (e.g. pd.read_csv)\n",
    "import tensorflow as tf\n",
    "from sklearn.utils import shuffle\n",
    "from sklearn.preprocessing import LabelBinarizer"
   ]
  },
  {
   "cell_type": "code",
   "execution_count": 218,
   "metadata": {
    "collapsed": true
   },
   "outputs": [],
   "source": [
    "train = shuffle(train)\n",
    "test = shuffle(test)"
   ]
  },
  {
   "cell_type": "code",
   "execution_count": 219,
   "metadata": {
    "collapsed": true
   },
   "outputs": [],
   "source": [
    "train_features = train.iloc[:,:562].as_matrix()\n",
    "test_features = test.iloc[:,:562].as_matrix()"
   ]
  },
  {
   "cell_type": "code",
   "execution_count": 220,
   "metadata": {
    "collapsed": true
   },
   "outputs": [],
   "source": [
    "binarizer = LabelBinarizer().fit(train['Activity'])\n",
    "train_labels = binarizer.transform(train.Activity)\n",
    "test_labels = binarizer.transform(test.Activity)"
   ]
  },
  {
   "cell_type": "code",
   "execution_count": 221,
   "metadata": {
    "collapsed": true
   },
   "outputs": [],
   "source": [
    "def weight_variable(shape):\n",
    "    \n",
    "    return tf.Variable(tf.truncated_normal(shape, stddev=0.1))\n",
    "\n",
    "def bias_variable(shape):\n",
    "    \n",
    "    return tf.Variable(tf.truncated_normal(shape, stddev=0.1))\n",
    "\n",
    "def add_layer(inputs, input_size, output_size, activation=None):\n",
    "    \n",
    "    W = weight_variable([input_size, output_size])\n",
    "    b = bias_variable([output_size])\n",
    "    wxb = tf.matmul(inputs, W) + b\n",
    "    if activation:\n",
    "        \n",
    "        return activation(wxb)\n",
    "    \n",
    "    else:\n",
    "        \n",
    "        return wxb"
   ]
  },
  {
   "cell_type": "code",
   "execution_count": 222,
   "metadata": {
    "collapsed": true
   },
   "outputs": [],
   "source": [
    "X = tf.placeholder(tf.float32, [None, 562])\n",
    "layer1 = add_layer(X, 562, 1000, tf.nn.relu)\n",
    "layer2 = add_layer(layer1, 1000, 300, tf.nn.relu)\n",
    "layer3 = add_layer(layer2, 300, 50, tf.nn.relu)\n",
    "output = add_layer(layer3, 50, 6)\n",
    "\n",
    "y_ = tf.placeholder(tf.float32, [None, 6])"
   ]
  },
  {
   "cell_type": "code",
   "execution_count": 223,
   "metadata": {
    "collapsed": false
   },
   "outputs": [],
   "source": [
    "loss = tf.reduce_mean(tf.nn.sigmoid_cross_entropy_with_logits(labels=output, logits=y_))\n",
    "optimizer = tf.train.GradientDescentOptimizer(0.001)\n",
    "train_step = optimizer.minimize(loss)\n",
    "\n",
    "correct = tf.equal(tf.argmax(output,1), tf.argmax(y_,1))\n",
    "score = tf.reduce_mean(tf.cast(correct, \"float\"))"
   ]
  },
  {
   "cell_type": "code",
   "execution_count": 224,
   "metadata": {
    "collapsed": false
   },
   "outputs": [
    {
     "name": "stdout",
     "output_type": "stream",
     "text": [
      "WARNING:tensorflow:From <ipython-input-224-25ffbcbda69c>:2: initialize_all_variables (from tensorflow.python.ops.variables) is deprecated and will be removed after 2017-03-02.\n",
      "Instructions for updating:\n",
      "Use `tf.global_variables_initializer` instead.\n"
     ]
    },
    {
     "name": "stderr",
     "output_type": "stream",
     "text": [
      "WARNING:tensorflow:From <ipython-input-224-25ffbcbda69c>:2: initialize_all_variables (from tensorflow.python.ops.variables) is deprecated and will be removed after 2017-03-02.\n",
      "Instructions for updating:\n",
      "Use `tf.global_variables_initializer` instead.\n"
     ]
    }
   ],
   "source": [
    "sess = tf.Session()\n",
    "init = tf.initialize_all_variables()\n",
    "sess.run(init)"
   ]
  },
  {
   "cell_type": "code",
   "execution_count": 225,
   "metadata": {
    "collapsed": true
   },
   "outputs": [],
   "source": [
    "for i in range(10000):\n",
    "    \n",
    "    batch = np.random.choice(train_features.shape[0], 100)\n",
    "    _, cost = sess.run([train_step, loss],  feed_dict = {X:train_features[batch], y_:train_labels[batch]})"
   ]
  },
  {
   "cell_type": "code",
   "execution_count": 226,
   "metadata": {
    "collapsed": false
   },
   "outputs": [
    {
     "name": "stdout",
     "output_type": "stream",
     "text": [
      "0.183183\n"
     ]
    }
   ],
   "source": [
    "print(sess.run(score, feed_dict={X: test_features, y_: test_labels}))"
   ]
  },
  {
   "cell_type": "code",
   "execution_count": 227,
   "metadata": {
    "collapsed": false
   },
   "outputs": [
    {
     "name": "stdout",
     "output_type": "stream",
     "text": [
      "Class labels striped off the dataset\n"
     ]
    }
   ],
   "source": [
    "#seperating class label from the dataset\n",
    "\n",
    "trainLabels= train.Activity.values\n",
    "trainData=train.drop(\"Activity\",axis=1).values\n",
    "\n",
    "testLabels= test.Activity.values\n",
    "testData=test.drop(\"Activity\",axis=1).values\n",
    "\n",
    "print(\"Class labels striped off the dataset\")"
   ]
  },
  {
   "cell_type": "code",
   "execution_count": 228,
   "metadata": {
    "collapsed": false
   },
   "outputs": [
    {
     "name": "stdout",
     "output_type": "stream",
     "text": [
      "Labels Transformed and Encoded\n"
     ]
    }
   ],
   "source": [
    "#transforming non-numerical labels to numerical labels using sklearn.preprocessing.LabelEncoder\n",
    "\n",
    "from sklearn import preprocessing\n",
    "labelEncoder= preprocessing.LabelEncoder()\n",
    "\n",
    "labelEncoder.fit(trainLabels)\n",
    "trainLabelsE=labelEncoder.transform(trainLabels)\n",
    "\n",
    "labelEncoder.fit(testLabels)\n",
    "testLabelsE=labelEncoder.transform(testLabels)\n",
    "\n",
    "print(\"Labels Transformed and Encoded\")"
   ]
  },
  {
   "cell_type": "code",
   "execution_count": 229,
   "metadata": {
    "collapsed": false
   },
   "outputs": [
    {
     "name": "stdout",
     "output_type": "stream",
     "text": [
      "Testing  set score for KNN_Distance(k=5): 0.767768\n",
      "Testing  set score for KNN_Distance(k=6): 0.766767\n",
      "Testing  set score for KNN_Distance(k=7): 0.766767\n",
      "Testing  set score for KNN_Distance(k=8): 0.768769\n",
      "Testing  set score for KNN_Distance(k=9): 0.760761\n",
      "Testing  set score for KNN_Distance(k=10): 0.762763\n",
      "Testing  set score for KNN_Distance(k=11): 0.767768\n",
      "Testing  set score for KNN_Distance(k=12): 0.770771\n",
      "Testing  set score for KNN_Distance(k=13): 0.773774\n",
      "Testing  set score for KNN_Distance(k=14): 0.765766\n",
      "Testing  set score for KNN_Distance(k=15): 0.766767\n",
      "Testing  set score for KNN_Distance(k=16): 0.765766\n",
      "Testing  set score for KNN_Distance(k=17): 0.766767\n",
      "Testing  set score for KNN_Distance(k=18): 0.766767\n",
      "Testing  set score for KNN_Distance(k=19): 0.765766\n",
      "Testing  set score for KNN_Distance(k=20): 0.764765\n",
      "Testing  set score for KNN_Distance(k=21): 0.763764\n",
      "Testing  set score for KNN_Distance(k=22): 0.767768\n",
      "Testing  set score for KNN_Distance(k=23): 0.766767\n",
      "Testing  set score for KNN_Distance(k=24): 0.770771\n",
      "Testing  set score for KNN_Distance(k=25): 0.764765\n",
      "Testing  set score for KNN_Distance(k=26): 0.770771\n",
      "Testing  set score for KNN_Distance(k=27): 0.768769\n",
      "Testing  set score for KNN_Distance(k=28): 0.765766\n",
      "Testing  set score for KNN_Distance(k=29): 0.765766\n",
      "Testing  set score for KNN_Distance(k=30): 0.770771\n",
      "Testing  set score for KNN_Distance(k=31): 0.768769\n",
      "Testing  set score for KNN_Distance(k=32): 0.767768\n",
      "Testing  set score for KNN_Distance(k=33): 0.769770\n",
      "Testing  set score for KNN_Distance(k=34): 0.766767\n",
      "Testing  set score for KNN_Distance(k=35): 0.766767\n",
      "Testing  set score for KNN_Distance(k=36): 0.770771\n",
      "Testing  set score for KNN_Distance(k=37): 0.767768\n",
      "Testing  set score for KNN_Distance(k=38): 0.770771\n",
      "Testing  set score for KNN_Distance(k=39): 0.769770\n",
      "Testing  set score for KNN_Distance(k=40): 0.776777\n",
      "Testing  set score for KNN_Distance(k=41): 0.779780\n",
      "Testing  set score for KNN_Distance(k=42): 0.777778\n",
      "Testing  set score for KNN_Distance(k=43): 0.780781\n",
      "Testing  set score for KNN_Distance(k=44): 0.775776\n",
      "Testing  set score for KNN_Distance(k=45): 0.777778\n",
      "Testing  set score for KNN_Distance(k=46): 0.771772\n",
      "Testing  set score for KNN_Distance(k=47): 0.773774\n",
      "Testing  set score for KNN_Distance(k=48): 0.774775\n",
      "Testing  set score for KNN_Distance(k=49): 0.773774\n",
      "Testing  set score for KNN_Distance(k=50): 0.771772\n",
      "Testing  set score for KNN_Uniform(k=5): 0.770771\n",
      "Testing  set score for KNN_Uniform(k=6): 0.773774\n",
      "Testing  set score for KNN_Uniform(k=7): 0.770771\n",
      "Testing  set score for KNN_Uniform(k=8): 0.775776\n",
      "Testing  set score for KNN_Uniform(k=9): 0.765766\n",
      "Testing  set score for KNN_Uniform(k=10): 0.770771\n",
      "Testing  set score for KNN_Uniform(k=11): 0.769770\n",
      "Testing  set score for KNN_Uniform(k=12): 0.774775\n",
      "Testing  set score for KNN_Uniform(k=13): 0.774775\n",
      "Testing  set score for KNN_Uniform(k=14): 0.768769\n",
      "Testing  set score for KNN_Uniform(k=15): 0.766767\n",
      "Testing  set score for KNN_Uniform(k=16): 0.766767\n",
      "Testing  set score for KNN_Uniform(k=17): 0.766767\n",
      "Testing  set score for KNN_Uniform(k=18): 0.763764\n",
      "Testing  set score for KNN_Uniform(k=19): 0.767768\n",
      "Testing  set score for KNN_Uniform(k=20): 0.760761\n",
      "Testing  set score for KNN_Uniform(k=21): 0.765766\n",
      "Testing  set score for KNN_Uniform(k=22): 0.764765\n",
      "Testing  set score for KNN_Uniform(k=23): 0.766767\n",
      "Testing  set score for KNN_Uniform(k=24): 0.764765\n",
      "Testing  set score for KNN_Uniform(k=25): 0.764765\n",
      "Testing  set score for KNN_Uniform(k=26): 0.766767\n",
      "Testing  set score for KNN_Uniform(k=27): 0.768769\n",
      "Testing  set score for KNN_Uniform(k=28): 0.764765\n",
      "Testing  set score for KNN_Uniform(k=29): 0.764765\n",
      "Testing  set score for KNN_Uniform(k=30): 0.767768\n",
      "Testing  set score for KNN_Uniform(k=31): 0.768769\n",
      "Testing  set score for KNN_Uniform(k=32): 0.767768\n",
      "Testing  set score for KNN_Uniform(k=33): 0.770771\n",
      "Testing  set score for KNN_Uniform(k=34): 0.768769\n",
      "Testing  set score for KNN_Uniform(k=35): 0.767768\n",
      "Testing  set score for KNN_Uniform(k=36): 0.770771\n",
      "Testing  set score for KNN_Uniform(k=37): 0.767768\n",
      "Testing  set score for KNN_Uniform(k=38): 0.775776\n",
      "Testing  set score for KNN_Uniform(k=39): 0.772773\n",
      "Testing  set score for KNN_Uniform(k=40): 0.778779\n",
      "Testing  set score for KNN_Uniform(k=41): 0.781782\n",
      "Testing  set score for KNN_Uniform(k=42): 0.778779\n",
      "Testing  set score for KNN_Uniform(k=43): 0.779780\n",
      "Testing  set score for KNN_Uniform(k=44): 0.776777\n",
      "Testing  set score for KNN_Uniform(k=45): 0.776777\n",
      "Testing  set score for KNN_Uniform(k=46): 0.778779\n",
      "Testing  set score for KNN_Uniform(k=47): 0.777778\n",
      "Testing  set score for KNN_Uniform(k=48): 0.776777\n",
      "Testing  set score for KNN_Uniform(k=49): 0.775776\n",
      "Testing  set score for KNN_Uniform(k=50): 0.774775\n"
     ]
    }
   ],
   "source": [
    "#applying k-nearest neighbours\n",
    "from sklearn.neighbors import KNeighborsClassifier as knn\n",
    "import numpy as np\n",
    "\n",
    "knnScoreDistance=np.zeros(51)\n",
    "knnScoreUniform=np.zeros(51)\n",
    "\n",
    "for num in range(5,51):\n",
    "    knnclf = knn(n_neighbors=num, weights='distance')\n",
    "    knnModel = knnclf.fit(trainData , trainLabelsE)\n",
    "    knnScoreDistance[num]=knnModel.score(testData  , testLabelsE )\n",
    "    print(\"Testing  set score for KNN_Distance(k=%d): %f\" %(num,knnScoreDistance[num]))\n",
    "    \n",
    "for num in range(5,51):\n",
    "    knnclf = knn(n_neighbors=num, weights='uniform')\n",
    "    knnModel = knnclf.fit(trainData , trainLabelsE)\n",
    "    knnScoreUniform[num]=knnModel.score(testData  , testLabelsE )\n",
    "    print(\"Testing  set score for KNN_Uniform(k=%d): %f\" %(num,knnScoreUniform[num]))"
   ]
  },
  {
   "cell_type": "code",
   "execution_count": 230,
   "metadata": {
    "collapsed": false
   },
   "outputs": [
    {
     "data": {
      "text/plain": [
       "<function matplotlib.pyplot.show>"
      ]
     },
     "execution_count": 230,
     "metadata": {},
     "output_type": "execute_result"
    },
    {
     "data": {
      "image/png": "[encoded data removed]",
      "text/plain": [
       "<matplotlib.figure.Figure at 0x7fd57bdc46d0>"
      ]
     },
     "metadata": {},
     "output_type": "display_data"
    }
   ],
   "source": [
    "import matplotlib.pyplot as plt\n",
    "\n",
    "x=np.array(range(5,51))\n",
    "\n",
    "plt.plot(x,knnScoreDistance[5:])\n",
    "plt.plot(x,knnScoreUniform[5:])\n",
    "plt.xlabel(\"No of neighbors (K)\")\n",
    "plt.ylabel(\"Test Data Mean Accuracy\")\n",
    "plt.legend(['KNN_Distance','KNN_Uniform'])\n",
    "plt.show"
   ]
  },
  {
   "cell_type": "code",
   "execution_count": 235,
   "metadata": {
    "collapsed": true
   },
   "outputs": [],
   "source": [
    "import itertools\n",
    "import numpy as np\n",
    "import matplotlib.pyplot as plt\n",
    "def plot_confusion_matrix(cm, classes,\n",
    "                          normalize=False,\n",
    "                          title='Confusion matrix',\n",
    "                          cmap=plt.cm.Blues):\n",
    "    \"\"\"\n",
    "    This function prints and plots the confusion matrix.\n",
    "    Normalization can be applied by setting `normalize=True`.\n",
    "    \"\"\"\n",
    "    plt.imshow(cm, interpolation='nearest', cmap=cmap)\n",
    "    plt.title(title)\n",
    "    plt.colorbar()\n",
    "    tick_marks = np.arange(len(classes))\n",
    "    plt.xticks(tick_marks, classes, rotation=45)\n",
    "    plt.yticks(tick_marks, classes)\n",
    "\n",
    "    if normalize:\n",
    "        cm = cm.astype('float') / cm.sum(axis=1)[:, np.newaxis]\n",
    "        print(\"Normalized confusion matrix\")\n",
    "    else:\n",
    "        print('Confusion matrix, without normalization')\n",
    "\n",
    "    print(cm)\n",
    "\n",
    "    thresh = cm.max() / 2.\n",
    "    for i, j in itertools.product(range(cm.shape[0]), range(cm.shape[1])):\n",
    "        plt.text(j, i, cm[i, j],\n",
    "                 horizontalalignment=\"center\",\n",
    "                 color=\"white\" if cm[i, j] > thresh else \"black\")\n",
    "\n",
    "    plt.tight_layout()\n",
    "    plt.ylabel('True label')\n",
    "    plt.xlabel('Predicted label')"
   ]
  },
  {
   "cell_type": "code",
   "execution_count": 236,
   "metadata": {
    "collapsed": false
   },
   "outputs": [
    {
     "name": "stdout",
     "output_type": "stream",
     "text": [
      "Accuracy: 0.773774\n",
      "Confusion matrix, without normalization\n",
      "[[183   0   0   0   0   0]\n",
      " [  0 117  53   0   0   0]\n",
      " [  0  24 154   0   0   0]\n",
      " [  0   0   0 120  10  55]\n",
      " [  0   0   0   7 124   3]\n",
      " [  0   0   0  40  34  75]]\n"
     ]
    },
    {
     "data": {
      "image/png": "[encoded data removed]",
      "text/plain": [
       "<matplotlib.figure.Figure at 0x7fd5add0ca50>"
      ]
     },
     "metadata": {},
     "output_type": "display_data"
    }
   ],
   "source": [
    "from sklearn.tree import DecisionTreeClassifier\n",
    "from sklearn.metrics import accuracy_score,confusion_matrix\n",
    "\n",
    "decsnTreeClf= DecisionTreeClassifier(criterion='entropy')\n",
    "tree=decsnTreeClf.fit(trainData,trainLabelsE)\n",
    "testPred=tree.predict(testData)\n",
    "\n",
    "acc= accuracy_score(testLabelsE,testPred)\n",
    "cfs = confusion_matrix(testLabelsE, testPred)\n",
    "\n",
    "print(\"Accuracy: %f\" %acc)\n",
    "\n",
    "plt.figure()\n",
    "class_names = labelEncoder.classes_\n",
    "plot_confusion_matrix(cfs, classes=class_names,\n",
    "                      title='DecisionTree Confusion Matrix, without normalization')"
   ]
  },
  {
   "cell_type": "code",
   "execution_count": 237,
   "metadata": {
    "collapsed": false
   },
   "outputs": [
    {
     "name": "stdout",
     "output_type": "stream",
     "text": [
      "Accuracy: 0.768769\n",
      "Confusion matrix, without normalization\n",
      "[[183   0   0   0   0   0]\n",
      " [  3 117  50   0   0   0]\n",
      " [  0  26 152   0   0   0]\n",
      " [  0   0   0 121   5  59]\n",
      " [  0   0   0   8 108  18]\n",
      " [  0   0   0  43  19  87]]\n"
     ]
    },
    {
     "data": {
      "image/png": "[encoded data removed]",
      "text/plain": [
       "<matplotlib.figure.Figure at 0x7fd5afb70c10>"
      ]
     },
     "metadata": {},
     "output_type": "display_data"
    }
   ],
   "source": [
    "decsnTreeClf= DecisionTreeClassifier()\n",
    "tree=decsnTreeClf.fit(trainData,trainLabelsE)\n",
    "testPred=tree.predict(testData)\n",
    "\n",
    "acc= accuracy_score(testLabelsE,testPred)\n",
    "cfs = confusion_matrix(testLabelsE, testPred)\n",
    "\n",
    "print(\"Accuracy: %f\" %acc)\n",
    "\n",
    "plt.figure()\n",
    "class_names = labelEncoder.classes_\n",
    "plot_confusion_matrix(cfs, classes=class_names,\n",
    "                      title='DecisionTree Confusion Matrix, without normalization')"
   ]
  },
  {
   "cell_type": "code",
   "execution_count": 238,
   "metadata": {
    "collapsed": false
   },
   "outputs": [
    {
     "data": {
      "text/plain": [
       "(999, 563)"
      ]
     },
     "execution_count": 238,
     "metadata": {},
     "output_type": "execute_result"
    }
   ],
   "source": [
    "train_df.shape"
   ]
  },
  {
   "cell_type": "code",
   "execution_count": 239,
   "metadata": {
    "collapsed": true
   },
   "outputs": [],
   "source": [
    "X, y = train_df.iloc[:, 0:len(train_df.columns) - 1], train_df.iloc[:, -1]"
   ]
  },
  {
   "cell_type": "code",
   "execution_count": 240,
   "metadata": {
    "collapsed": false
   },
   "outputs": [],
   "source": [
    "X_test, y_test = test_df.iloc[:, 0:len(test_df.columns) -1], test_df.iloc[:, -1]"
   ]
  },
  {
   "cell_type": "code",
   "execution_count": 242,
   "metadata": {
    "collapsed": true
   },
   "outputs": [],
   "source": [
    "from sklearn.tree import DecisionTreeClassifier\n",
    "from sklearn.neighbors import KNeighborsClassifier\n",
    "from sklearn.svm import SVC\n",
    "from sklearn.naive_bayes import GaussianNB\n",
    "from sklearn.discriminant_analysis import QuadraticDiscriminantAnalysis\n",
    "from sklearn.metrics import accuracy_score # for evaluation"
   ]
  },
  {
   "cell_type": "code",
   "execution_count": 243,
   "metadata": {
    "collapsed": true
   },
   "outputs": [],
   "source": [
    "classifiers = [\n",
    "    DecisionTreeClassifier(),\n",
    "    KNeighborsClassifier(7), # because there are 6 different labels\n",
    "    SVC(),\n",
    "    GaussianNB(),\n",
    "    QuadraticDiscriminantAnalysis()\n",
    "]"
   ]
  },
  {
   "cell_type": "code",
   "execution_count": 244,
   "metadata": {
    "collapsed": false
   },
   "outputs": [
    {
     "data": {
      "text/html": [
       "<div>\n",
       "<table border=\"1\" class=\"dataframe\">\n",
       "  <thead>\n",
       "    <tr style=\"text-align: right;\">\n",
       "      <th></th>\n",
       "      <th>Score</th>\n",
       "    </tr>\n",
       "    <tr>\n",
       "      <th>Model</th>\n",
       "      <th></th>\n",
       "    </tr>\n",
       "  </thead>\n",
       "  <tbody>\n",
       "    <tr>\n",
       "      <th>DecisionTreeClassifier</th>\n",
       "      <td>0.779780</td>\n",
       "    </tr>\n",
       "    <tr>\n",
       "      <th>KNeighborsClassifier</th>\n",
       "      <td>0.770771</td>\n",
       "    </tr>\n",
       "    <tr>\n",
       "      <th>SVC</th>\n",
       "      <td>0.846847</td>\n",
       "    </tr>\n",
       "    <tr>\n",
       "      <th>GaussianNB</th>\n",
       "      <td>0.759760</td>\n",
       "    </tr>\n",
       "    <tr>\n",
       "      <th>QuadraticDiscriminantAnalysis</th>\n",
       "      <td>0.415415</td>\n",
       "    </tr>\n",
       "  </tbody>\n",
       "</table>\n",
       "</div>"
      ],
      "text/plain": [
       "                                  Score\n",
       "Model                                  \n",
       "DecisionTreeClassifier         0.779780\n",
       "KNeighborsClassifier           0.770771\n",
       "SVC                            0.846847\n",
       "GaussianNB                     0.759760\n",
       "QuadraticDiscriminantAnalysis  0.415415"
      ]
     },
     "execution_count": 244,
     "metadata": {},
     "output_type": "execute_result"
    }
   ],
   "source": [
    "names = []\n",
    "scores = []\n",
    "\n",
    "for clf in classifiers:\n",
    "    clf = clf.fit(X, y)\n",
    "    y_pred = clf.predict(X_test)\n",
    "    \n",
    "    names.append(clf.__class__.__name__)\n",
    "    scores.append(accuracy_score(y_pred, y_test))\n",
    "\n",
    "score_df = pd.DataFrame({'Model': names, 'Score': scores}).set_index('Model')\n",
    "score_df"
   ]
  },
  {
   "cell_type": "code",
   "execution_count": 245,
   "metadata": {
    "collapsed": false
   },
   "outputs": [
    {
     "data": {
      "text/plain": [
       "[<matplotlib.text.Text at 0x7fd57a2802d0>,\n",
       " <matplotlib.text.Text at 0x7fd57a9335d0>,\n",
       " <matplotlib.text.Text at 0x7fd57a8c82d0>,\n",
       " <matplotlib.text.Text at 0x7fd57b276f90>,\n",
       " <matplotlib.text.Text at 0x7fd57b276510>]"
      ]
     },
     "execution_count": 245,
     "metadata": {},
     "output_type": "execute_result"
    },
    {
     "data": {
      "image/png": "[encoded data removed]",
      "text/plain": [
       "<matplotlib.figure.Figure at 0x7fd57a8895d0>"
      ]
     },
     "metadata": {},
     "output_type": "display_data"
    }
   ],
   "source": [
    "import matplotlib.pyplot as plt\n",
    "%matplotlib inline\n",
    "\n",
    "ax = score_df.plot.bar()\n",
    "ax.set_xticklabels(score_df.index, rotation=45, fontsize=10)"
   ]
  },
  {
   "cell_type": "code",
   "execution_count": 248,
   "metadata": {
    "collapsed": false
   },
   "outputs": [
    {
     "name": "stdout",
     "output_type": "stream",
     "text": [
      "Best parameter set found:\n",
      "{'kernel': 'linear', 'C': 100}\n",
      "Detailed grid scores:\n",
      "0.913 (+/-0.095) for {'kernel': 'linear', 'C': 100}\n",
      "()\n",
      "0.908 (+/-0.105) for {'kernel': 'rbf', 'C': 100}\n",
      "()\n",
      "0.901 (+/-0.104) for {'kernel': 'poly', 'C': 100}\n",
      "()\n",
      "0.907 (+/-0.112) for {'kernel': 'sigmoid', 'C': 100}\n",
      "()\n",
      "0.913 (+/-0.095) for {'kernel': 'linear', 'C': 50}\n",
      "()\n",
      "0.906 (+/-0.098) for {'kernel': 'rbf', 'C': 50}\n",
      "()\n",
      "0.894 (+/-0.085) for {'kernel': 'poly', 'C': 50}\n",
      "()\n",
      "0.894 (+/-0.132) for {'kernel': 'sigmoid', 'C': 50}\n",
      "()\n",
      "0.913 (+/-0.095) for {'kernel': 'linear', 'C': 20}\n",
      "()\n",
      "0.903 (+/-0.102) for {'kernel': 'rbf', 'C': 20}\n",
      "()\n",
      "0.874 (+/-0.100) for {'kernel': 'poly', 'C': 20}\n",
      "()\n",
      "0.887 (+/-0.112) for {'kernel': 'sigmoid', 'C': 20}\n",
      "()\n",
      "0.913 (+/-0.095) for {'kernel': 'linear', 'C': 1}\n",
      "()\n",
      "0.849 (+/-0.085) for {'kernel': 'rbf', 'C': 1}\n",
      "()\n",
      "0.636 (+/-0.048) for {'kernel': 'poly', 'C': 1}\n",
      "()\n",
      "0.759 (+/-0.058) for {'kernel': 'sigmoid', 'C': 1}\n",
      "()\n",
      "0.899 (+/-0.118) for {'kernel': 'linear', 'C': 0.1}\n",
      "()\n",
      "0.401 (+/-0.036) for {'kernel': 'rbf', 'C': 0.1}\n",
      "()\n",
      "0.388 (+/-0.001) for {'kernel': 'poly', 'C': 0.1}\n",
      "()\n",
      "0.388 (+/-0.001) for {'kernel': 'sigmoid', 'C': 0.1}\n",
      "()\n"
     ]
    }
   ],
   "source": [
    "from sklearn.model_selection import GridSearchCV\n",
    "\n",
    "parameters = {\n",
    "    'kernel': ['linear', 'rbf', 'poly','sigmoid'],\n",
    "    'C': [100, 50, 20, 1, 0.1]\n",
    "}\n",
    "\n",
    "selector = GridSearchCV(SVC(), parameters, scoring='accuracy') # we only care about accuracy here\n",
    "selector.fit(X, y)\n",
    "\n",
    "print('Best parameter set found:')\n",
    "print(selector.best_params_)\n",
    "print('Detailed grid scores:')\n",
    "means = selector.cv_results_['mean_test_score']\n",
    "stds = selector.cv_results_['std_test_score']\n",
    "for mean, std, params in zip(means, stds, selector.cv_results_['params']):\n",
    "    print('%0.3f (+/-%0.03f) for %r' % (mean, std * 2, params))\n",
    "    print()"
   ]
  },
  {
   "cell_type": "code",
   "execution_count": 249,
   "metadata": {
    "collapsed": false
   },
   "outputs": [
    {
     "name": "stdout",
     "output_type": "stream",
     "text": [
      "('Accuracy score:', 0.87387387387387383)\n"
     ]
    }
   ],
   "source": [
    "clf = SVC(kernel='linear', C=100).fit(X, y)\n",
    "y_pred = clf.predict(X_test)\n",
    "print('Accuracy score:', accuracy_score(y_test, y_pred))"
   ]
  },
  {
   "cell_type": "code",
   "execution_count": null,
   "metadata": {
    "collapsed": true
   },
   "outputs": [],
   "source": []
  },
  {
   "cell_type": "code",
   "execution_count": null,
   "metadata": {
    "collapsed": true
   },
   "outputs": [],
   "source": []
  }
 ],
 "metadata": {
  "kernelspec": {
   "display_name": "Python 2",
   "language": "python",
   "name": "python2"
  },
  "language_info": {
   "codemirror_mode": {
    "name": "ipython",
    "version": 2
   },
   "file_extension": ".py",
   "mimetype": "text/x-python",
   "name": "python",
   "nbconvert_exporter": "python",
   "pygments_lexer": "ipython2",
   "version": "2.7.12"
  }
 },
 "nbformat": 4,
 "nbformat_minor": 0
}
